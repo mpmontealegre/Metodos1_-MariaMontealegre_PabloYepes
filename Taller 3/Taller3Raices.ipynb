{
 "cells": [
  {
   "cell_type": "code",
   "execution_count": 1,
   "id": "4fd696d8-80d0-43fc-a0ac-f5ed288699f6",
   "metadata": {},
   "outputs": [],
   "source": [
    "import numpy as np\n",
    "import sympy as sym"
   ]
  },
  {
   "cell_type": "code",
   "execution_count": 2,
   "id": "cc52b87f-ffde-40a9-926e-f8192b6294f5",
   "metadata": {},
   "outputs": [],
   "source": [
    "def Function(x):\n",
    "    return (3*x**5)+(5*x**4)-(x**3)"
   ]
  },
  {
   "cell_type": "code",
   "execution_count": 3,
   "id": "a7cddd83-6bfe-4b30-a71a-8cd84f2d3086",
   "metadata": {},
   "outputs": [],
   "source": [
    "x = np.linspace(-10,10,100)\n",
    "y = Function(x)"
   ]
  },
  {
   "cell_type": "code",
   "execution_count": 4,
   "id": "7152f5e6-7a0f-4548-8757-e3add5de3ae2",
   "metadata": {},
   "outputs": [],
   "source": [
    "def Derivative(f,x,h=1e-6):\n",
    "    return (f(x+h)-f(x-h))/(2*h)"
   ]
  },
  {
   "cell_type": "code",
   "execution_count": 5,
   "id": "93ca1e13-9584-4747-bef8-8d7d778c6002",
   "metadata": {},
   "outputs": [],
   "source": [
    "def GetNewtonMethod(f,df,xn,itmax=1000,precision=1e-5):\n",
    "    \n",
    "    error = 1\n",
    "    it=0\n",
    "    \n",
    "    while error > precision and it < itmax:\n",
    "        \n",
    "        try:\n",
    "            \n",
    "            xn1 = xn - f(xn)/df(f,xn)\n",
    "            error = np.abs(f(xn)/df(f,xn))\n",
    "            \n",
    "        except ZeroDivisionError:\n",
    "            print('Division por cero')\n",
    "            \n",
    "        xn = xn1\n",
    "        it += 1\n",
    "        \n",
    "    print(xn,it)\n",
    "    \n",
    "    if it == itmax:\n",
    "        return False\n",
    "    else:\n",
    "        return xn"
   ]
  },
  {
   "cell_type": "code",
   "execution_count": 6,
   "id": "6e7ac918-937d-4189-a394-e59aaf34adb9",
   "metadata": {},
   "outputs": [],
   "source": [
    "def GetAllRoots(x,tolerancia=8):\n",
    "    \n",
    "    Roots = np.array([])\n",
    "    \n",
    "    for i in x:\n",
    "        root = GetNewtonMethod(Function,Derivative,i)\n",
    "        \n",
    "        if root != False:\n",
    "            \n",
    "            croot = np.round( root, tolerancia )\n",
    "            \n",
    "            if croot not in Roots:\n",
    "                Roots = np.append(Roots,croot)\n",
    "                \n",
    "    Roots.sort()\n",
    "    \n",
    "    return Roots"
   ]
  },
  {
   "cell_type": "code",
   "execution_count": 7,
   "id": "390a0fa0-c2e0-48e7-a741-8c02d69a9724",
   "metadata": {},
   "outputs": [
    {
     "name": "stdout",
     "output_type": "stream",
     "text": [
      "-1.8471270884724338 13\n",
      "-1.8471270884024342 13\n",
      "-1.8471270883866917 13\n",
      "-1.8471270883836246 13\n",
      "-1.847127088383116 13\n",
      "-1.8471270883830455 13\n",
      "-1.847127088383037 13\n",
      "-1.8471270883830364 13\n",
      "-1.8471270883830366 13\n",
      "-1.8471270883830366 13\n",
      "-1.847127088418126 12\n",
      "-1.8471270883875772 12\n",
      "-1.8471270883834963 12\n",
      "-1.8471270883830715 12\n",
      "-1.8471270883830386 12\n",
      "-1.8471270883830369 12\n",
      "-1.8471270883830366 12\n",
      "-1.8471270884918722 11\n",
      "-1.8471270883925843 11\n",
      "-1.8471270883836166 11\n",
      "-1.8471270883830593 11\n",
      "-1.8471270883830373 11\n",
      "-1.8471270883830364 11\n",
      "-1.8471270885113946 10\n",
      "-1.8471270883889055 10\n",
      "-1.8471270883831832 10\n",
      "-1.8471270883830382 10\n",
      "-1.8471270883830369 10\n",
      "-1.8471270884505604 9\n",
      "-1.8471270883840987 9\n",
      "-1.8471270883830424 9\n",
      "-1.8471270883830369 9\n",
      "-1.8471270884052726 8\n",
      "-1.8471270883831006 8\n",
      "-1.8471270883830364 8\n",
      "-1.8471270883940891 7\n",
      "-1.8471270883830395 7\n",
      "-1.8471270884358464 6\n",
      "-1.8471270883830375 6\n",
      "-1.84712708838335 5\n",
      "-1.8471270883830457 4\n",
      "-1.8471270883830369 5\n",
      "-1.8471270883830364 10\n",
      "-1.5396979936679853e-05 27\n",
      "-1.786807583000448e-05 28\n",
      "-1.648883105647955e-05 28\n",
      "-1.982649959934999e-05 27\n",
      "-1.3855466485408244e-05 27\n",
      "-1.727456338675477e-05 25\n",
      "-1.6231876218764603e-05 22\n",
      "1.7438270167046498e-05 20\n",
      "0.1804604217163758 7\n",
      "0.1804604217170282 9\n",
      "0.1804604219559463 10\n",
      "0.18046042202745857 11\n",
      "0.18046042173847215 12\n",
      "0.18046042171646665 13\n",
      "0.180460422508473 13\n",
      "0.18046042171690388 14\n",
      "0.18046042224172476 14\n",
      "0.18046042171641705 15\n",
      "0.18046042174439605 15\n",
      "0.18046042171637006 16\n",
      "0.18046042171647467 16\n",
      "0.18046042173271878 16\n",
      "0.18046042249937094 16\n",
      "0.1804604217163743 17\n",
      "0.18046042171688054 17\n",
      "0.1804604217395688 17\n",
      "0.18046042222741737 17\n",
      "0.18046042171637067 18\n",
      "0.1804604217164165 18\n",
      "0.1804604217178967 18\n",
      "0.1804604217450544 18\n",
      "0.18046042205981663 18\n",
      "0.18046042171637008 19\n",
      "0.1804604217163752 19\n",
      "0.1804604217164889 19\n",
      "0.18046042171815652 19\n",
      "0.18046042173528323 19\n",
      "0.18046042186539776 19\n",
      "0.18046042263031098 19\n",
      "0.1804604217163703 20\n",
      "0.1804604217163759 20\n",
      "0.1804604217164438 20\n",
      "0.1804604217170668 20\n",
      "0.18046042172155574 20\n",
      "0.18046042174775487 20\n",
      "0.18046042187489034 20\n",
      "0.18046042239948645 20\n",
      "0.18046042171637006 21\n",
      "0.18046042171637117 21\n",
      "0.18046042171638077 21\n",
      "0.18046042171644852 21\n",
      "0.18046042171684884 21\n",
      "0.1804604217188707 21\n",
      "0.18046042172773694 21\n",
      "0.18046042176198931 21\n",
      "0.18046042188005235 21\n",
      "0.18046042224724343 21\n"
     ]
    }
   ],
   "source": [
    "Roots = GetAllRoots(x)"
   ]
  },
  {
   "cell_type": "code",
   "execution_count": 8,
   "id": "e54e5a8c-8a40-4cc8-8ca4-4fa2afc0b426",
   "metadata": {},
   "outputs": [
    {
     "data": {
      "text/plain": [
       "array([-1.84712709e+00, -1.98300000e-05, -1.78700000e-05, -1.72700000e-05,\n",
       "       -1.64900000e-05, -1.62300000e-05, -1.54000000e-05, -1.38600000e-05,\n",
       "        1.74400000e-05,  1.80460420e-01])"
      ]
     },
     "execution_count": 8,
     "metadata": {},
     "output_type": "execute_result"
    }
   ],
   "source": [
    "Roots"
   ]
  },
  {
   "cell_type": "code",
   "execution_count": 9,
   "id": "8c5b55bb-3fee-4ed8-a9a6-ef2543d9e05b",
   "metadata": {},
   "outputs": [],
   "source": [
    "def Legendre(n):\n",
    "    \n",
    "    x = sym.Symbol('x',Real=True)\n",
    "    y = sym.Symbol('y',Real=True)\n",
    "    \n",
    "    y = (x**2-1)**n\n",
    "    \n",
    "    p = sym.diff(y,x,n)/(2**n * np.math.factorial(n))\n",
    "    \n",
    "    return p"
   ]
  },
  {
   "cell_type": "code",
   "execution_count": 35,
   "id": "f2ae1c83-0df9-4f99-a931-b39b560e0e6c",
   "metadata": {},
   "outputs": [],
   "source": [
    "Legendres=[]\n",
    "for i in range(1,20):\n",
    "    Legendres=np.append(Legendres,Legendre(i))"
   ]
  },
  {
   "cell_type": "code",
   "execution_count": 43,
   "id": "698b0068-2568-45f0-9206-0bc3750fdb74",
   "metadata": {},
   "outputs": [],
   "source": [
    "def Raices():\n",
    "    Roots=[]\n",
    "    for i in range(len(Legendres)):\n",
    "        raiz=sym.solve(Legendres[i])\n",
    "        Roots=np.append(Roots,raiz)\n",
    "    return Roots"
   ]
  },
  {
   "cell_type": "code",
   "execution_count": 45,
   "id": "8b9efb7d-a9ea-42bd-8f2f-35767344c053",
   "metadata": {},
   "outputs": [
    {
     "data": {
      "text/plain": [
       "190"
      ]
     },
     "execution_count": 45,
     "metadata": {},
     "output_type": "execute_result"
    }
   ],
   "source": [
    "len(Raices())"
   ]
  },
  {
   "cell_type": "code",
   "execution_count": 47,
   "id": "e936c27b-1f69-48be-bfd1-7f046950ff22",
   "metadata": {},
   "outputs": [],
   "source": [
    "def Laguerre(n):\n",
    "    \n",
    "    x = sym.Symbol('x',Real=True)\n",
    "    y = sym.Symbol('y',Real=True)\n",
    "    \n",
    "    y = sym.exp(-x)*x**n\n",
    "    \n",
    "    p = sym.exp(x)*sym.diff(y,x,n)/(np.math.factorial(n))\n",
    "    \n",
    "    return p"
   ]
  },
  {
   "cell_type": "code",
   "execution_count": 48,
   "id": "6840d613-57d8-4492-9cf2-3d867d394c93",
   "metadata": {},
   "outputs": [],
   "source": [
    "Laguerres=[]\n",
    "for i in range(1,20):\n",
    "    Laguerres=np.append(Laguerres,Laguerre(i))"
   ]
  },
  {
   "cell_type": "code",
   "execution_count": 51,
   "id": "5e5ab281-7168-483a-b084-31fdd9c1c00d",
   "metadata": {},
   "outputs": [],
   "source": [
    "def Raices2():\n",
    "    Roots=[]\n",
    "    for i in range(len(Laguerres)):\n",
    "        raiz=sym.solve(Laguerres[i])\n",
    "        Roots=np.append(Roots,raiz)\n",
    "    return Roots"
   ]
  },
  {
   "cell_type": "code",
   "execution_count": 52,
   "id": "125d3f1b-0ad7-4b24-8935-7010a0818757",
   "metadata": {},
   "outputs": [
    {
     "data": {
      "text/plain": [
       "190"
      ]
     },
     "execution_count": 52,
     "metadata": {},
     "output_type": "execute_result"
    }
   ],
   "source": [
    "len(Raices2())"
   ]
  },
  {
   "cell_type": "code",
   "execution_count": null,
   "id": "f043d6cf-6672-4991-833e-1cabb780ea6f",
   "metadata": {},
   "outputs": [],
   "source": []
  }
 ],
 "metadata": {
  "kernelspec": {
   "display_name": "Python 3 (ipykernel)",
   "language": "python",
   "name": "python3"
  },
  "language_info": {
   "codemirror_mode": {
    "name": "ipython",
    "version": 3
   },
   "file_extension": ".py",
   "mimetype": "text/x-python",
   "name": "python",
   "nbconvert_exporter": "python",
   "pygments_lexer": "ipython3",
   "version": "3.7.12"
  }
 },
 "nbformat": 4,
 "nbformat_minor": 5
}
