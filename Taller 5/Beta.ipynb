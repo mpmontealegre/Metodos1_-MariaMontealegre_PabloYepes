{
 "cells": [
  {
   "cell_type": "code",
   "execution_count": 11,
   "id": "129ca491",
   "metadata": {},
   "outputs": [
    {
     "data": {
      "text/plain": [
       "(13385.1, 1.0003885119990437)"
      ]
     },
     "execution_count": 11,
     "metadata": {},
     "output_type": "execute_result"
    }
   ],
   "source": [
    "import numpy as np\n",
    "a = 2\n",
    "b = 4\n",
    "N = int(1e5)\n",
    "\n",
    "def Beta(a, b, x):\n",
    "    \n",
    "    gamma_a = np.math.factorial(a-1)\n",
    "    gamma_b = np.math.factorial(b-1)\n",
    "    gamma_a_b = np.math.factorial((a+b)-1)\n",
    "    \n",
    "    rang = len(x)\n",
    "    values = np.zeros(N)\n",
    "    for i in range(rang):\n",
    "        values[i] = (gamma_a_b/(gamma_a)*(gamma_b))*x[i]**a-1*(1-x[i])**b-1\n",
    "    \n",
    "    return values\n",
    "\n",
    "def MCintegral(a,b,N):\n",
    "    x = np.random.uniform(a, b, N)\n",
    "    y = Beta(a,b,x)\n",
    "    return np.mean( y )*(b-a)\n",
    "\n",
    "round(MCintegral(a,b,N), 1), (66948/5)/round(MCintegral(a,b,N), 1)"
   ]
  },
  {
   "cell_type": "code",
   "execution_count": null,
   "id": "ce47eaa8",
   "metadata": {},
   "outputs": [],
   "source": []
  }
 ],
 "metadata": {
  "kernelspec": {
   "display_name": "Python 3 (ipykernel)",
   "language": "python",
   "name": "python3"
  },
  "language_info": {
   "codemirror_mode": {
    "name": "ipython",
    "version": 3
   },
   "file_extension": ".py",
   "mimetype": "text/x-python",
   "name": "python",
   "nbconvert_exporter": "python",
   "pygments_lexer": "ipython3",
   "version": "3.9.12"
  }
 },
 "nbformat": 4,
 "nbformat_minor": 5
}
