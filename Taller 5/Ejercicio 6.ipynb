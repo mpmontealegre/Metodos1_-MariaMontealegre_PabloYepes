{
 "cells": [
  {
   "cell_type": "code",
   "execution_count": 5,
   "id": "d29a220f-27b1-4932-bf75-8fb6758fb5cc",
   "metadata": {},
   "outputs": [],
   "source": [
    "import matplotlib.pyplot as plt\n",
    "import numpy as np\n",
    "from mpl_toolkits.mplot3d import axes3d"
   ]
  },
  {
   "cell_type": "code",
   "execution_count": 6,
   "id": "b1a4210a-e93e-4324-ba18-ddac40cc6305",
   "metadata": {},
   "outputs": [],
   "source": [
    "def f(r):\n",
    "    return np.exp(r)"
   ]
  },
  {
   "cell_type": "code",
   "execution_count": 7,
   "id": "9504d0dc-7041-44f8-99cd-04c754fc38ef",
   "metadata": {},
   "outputs": [],
   "source": [
    "def GetPoints(R):\n",
    "    u= np.random.rand()\n",
    "    c= R*u**(1/3)\n",
    "    phi = np.random.uniform(0,np.pi)\n",
    "    theta = np.random.uniform(0,2*np.pi)\n",
    "    x=c*np.cos(theta)*np.sin(phi)\n",
    "    y=c*np.sin(theta)*np.sin(phi)\n",
    "    z=c*np.cos(phi)\n",
    "    r=np.sqrt(x**2+y**2+z**2)\n",
    "    return r"
   ]
  },
  {
   "cell_type": "code",
   "execution_count": 8,
   "id": "557e1929-ab2b-4626-8da1-00b3d2c21488",
   "metadata": {},
   "outputs": [],
   "source": [
    "N = int(1e7)\n",
    "Sample = np.zeros(N)\n",
    "\n",
    "for i in range(N):\n",
    "    r = GetPoints(1)\n",
    "    Sample[i] = f(r)"
   ]
  },
  {
   "cell_type": "code",
   "execution_count": 9,
   "id": "79a1171a-6ed2-4a70-8ba6-841e47daaa23",
   "metadata": {},
   "outputs": [],
   "source": [
    "Integral = np.pi * np.average( Sample )"
   ]
  },
  {
   "cell_type": "code",
   "execution_count": 10,
   "id": "4c8aa764-dfa2-4a8c-9657-04129c369784",
   "metadata": {},
   "outputs": [
    {
     "name": "stdout",
     "output_type": "stream",
     "text": [
      "6.769888283335677 9.02619566197592\n"
     ]
    }
   ],
   "source": [
    "print(Integral, 4*np.pi*(np.e-2))"
   ]
  },
  {
   "cell_type": "code",
   "execution_count": 11,
   "id": "1a1a5ad1-f9a2-4dcf-b47c-02a19cb0f91f",
   "metadata": {},
   "outputs": [
    {
     "data": {
      "text/plain": [
       "2.25654891549398"
      ]
     },
     "execution_count": 11,
     "metadata": {},
     "output_type": "execute_result"
    }
   ],
   "source": [
    "np.pi*(np.e-2)"
   ]
  },
  {
   "cell_type": "code",
   "execution_count": 15,
   "id": "fe45434d-b4cb-4662-854f-57f7bcbb10b3",
   "metadata": {},
   "outputs": [
    {
     "data": {
      "text/plain": [
       "0.6126463621324619"
      ]
     },
     "execution_count": 15,
     "metadata": {},
     "output_type": "execute_result"
    }
   ],
   "source": [
    "GetPoints(1)"
   ]
  },
  {
   "cell_type": "code",
   "execution_count": null,
   "id": "ec13ada4-a08f-4f60-9535-d03dfb786aa0",
   "metadata": {},
   "outputs": [],
   "source": []
  }
 ],
 "metadata": {
  "kernelspec": {
   "display_name": "Python 3 (ipykernel)",
   "language": "python",
   "name": "python3"
  },
  "language_info": {
   "codemirror_mode": {
    "name": "ipython",
    "version": 3
   },
   "file_extension": ".py",
   "mimetype": "text/x-python",
   "name": "python",
   "nbconvert_exporter": "python",
   "pygments_lexer": "ipython3",
   "version": "3.7.12"
  }
 },
 "nbformat": 4,
 "nbformat_minor": 5
}
