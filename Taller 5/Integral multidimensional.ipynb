{
 "cells": [
  {
   "cell_type": "code",
   "execution_count": 23,
   "id": "050b639b",
   "metadata": {},
   "outputs": [
    {
     "data": {
      "text/plain": [
       "(0.13076906044652023, 1.111070673003584)"
      ]
     },
     "execution_count": 23,
     "metadata": {},
     "output_type": "execute_result"
    }
   ],
   "source": [
    "import numpy as np\n",
    "\n",
    "def f(x):\n",
    "    sum = 0\n",
    "    for k in range(8):\n",
    "        sum += x[k]\n",
    "    return (2**(-7))*(sum**2)\n",
    "\n",
    "def IntegralMC(N = int(1e6), a=0, b=1):\n",
    "    \n",
    "    x1 = np.random.uniform(a, b, N)\n",
    "    x2 = np.random.uniform(a, b, N)\n",
    "    x3 = np.random.uniform(a, b, N)\n",
    "    x4 = np.random.uniform(a, b, N)\n",
    "    x5 = np.random.uniform(a, b, N)\n",
    "    x6 = np.random.uniform(a, b, N) \n",
    "    x7 = np.random.uniform(a, b, N)\n",
    "    x8 = np.random.uniform(a, b, N)\n",
    "    y1 = f(x1)\n",
    "    y2 = f(x2)\n",
    "    y3 = f(x3)\n",
    "    y4 = f(x4)\n",
    "    y5 = f(x5)\n",
    "    y6 = f(x6)\n",
    "    y7 = f(x7)\n",
    "    y8 = f(x8)\n",
    "    y = np.array([y1, y2, y3, y4, y5, y6, y7, y8])\n",
    "    r = sum(y)\n",
    "    sol = 1/8*r\n",
    "    return sol\n",
    "\n",
    "IntegralMC(), (25/192)/IntegralMC()"
   ]
  },
  {
   "cell_type": "code",
   "execution_count": null,
   "id": "3bcddf27",
   "metadata": {},
   "outputs": [],
   "source": []
  }
 ],
 "metadata": {
  "kernelspec": {
   "display_name": "Python 3 (ipykernel)",
   "language": "python",
   "name": "python3"
  },
  "language_info": {
   "codemirror_mode": {
    "name": "ipython",
    "version": 3
   },
   "file_extension": ".py",
   "mimetype": "text/x-python",
   "name": "python",
   "nbconvert_exporter": "python",
   "pygments_lexer": "ipython3",
   "version": "3.9.12"
  }
 },
 "nbformat": 4,
 "nbformat_minor": 5
}
