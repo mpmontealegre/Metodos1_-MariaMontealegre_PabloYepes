{
 "cells": [
  {
   "cell_type": "code",
   "execution_count": 2,
   "id": "0a4f57f0-1828-48ad-8ded-bf9580259708",
   "metadata": {},
   "outputs": [],
   "source": [
    "import numpy as np\n",
    "import matplotlib.pyplot as plt"
   ]
  },
  {
   "cell_type": "code",
   "execution_count": 3,
   "id": "8974b459-12c6-40e4-86be-5222419bf528",
   "metadata": {},
   "outputs": [
    {
     "name": "stdout",
     "output_type": "stream",
     "text": [
      "[[ 3. -1. -1.]\n",
      " [-1.  3.  1.]\n",
      " [ 2.  1.  4.]]\n",
      "[1. 3. 7.]\n",
      "[0. 0. 0.]\n"
     ]
    }
   ],
   "source": [
    "M = np.array([[3,-1,-1],[-1.,3.,1.],[2,1,4]])\n",
    "print(M)\n",
    "b = np.array([1.,3.,7.])\n",
    "print(b)\n",
    "z= np.array([0.,0.,0.])\n",
    "print(z)"
   ]
  },
  {
   "cell_type": "code",
   "execution_count": 4,
   "id": "917171ec-6a39-4c7c-9a84-81028d6f630a",
   "metadata": {},
   "outputs": [],
   "source": [
    "def GausJordan(A_,b_,ones = False):\n",
    "    \n",
    "    A = A_.copy()\n",
    "    b = b_.copy()\n",
    "    \n",
    "    n = A.shape[0]\n",
    "    \n",
    "    for i in range(n):\n",
    "        \n",
    "        if ones:\n",
    "            b[i] /= A[i,i]\n",
    "            A[i,:] /= A[i,i]\n",
    "           \n",
    "        \n",
    "        for j in range(i+1,n):\n",
    "            \n",
    "            a = A[j,i]/A[i,i]\n",
    "            A[j,:] -= a*A[i,:]\n",
    "            b[j] -= a*b[i]\n",
    "         \n",
    "       \n",
    "    x = np.zeros_like(b)\n",
    "\n",
    "    \n",
    "    for i in reversed(range(n)):\n",
    "        #print(i)\n",
    "    \n",
    "        x[i] = b[i]\n",
    "        \n",
    "        for j in range( i+1, n ):\n",
    "            x[i] -= A[i,j]*x[j]\n",
    "        \n",
    "        if not ones:\n",
    "            x[i] /= A[i,i]\n",
    "    \n",
    "    return x,A,b"
   ]
  },
  {
   "cell_type": "code",
   "execution_count": 5,
   "id": "b21ec0ba-8b7d-4656-b570-9dab40cdf533",
   "metadata": {},
   "outputs": [],
   "source": [
    "x,A,b_ = GausJordan(M,b)"
   ]
  },
  {
   "cell_type": "code",
   "execution_count": 6,
   "id": "6d67d768-05ee-42c6-9cf4-f5c80e7053bd",
   "metadata": {},
   "outputs": [
    {
     "data": {
      "text/plain": [
       "array([1., 1., 1.])"
      ]
     },
     "execution_count": 6,
     "metadata": {},
     "output_type": "execute_result"
    }
   ],
   "source": [
    "x"
   ]
  },
  {
   "cell_type": "code",
   "execution_count": 19,
   "id": "1d657587-d7f0-4055-a78c-940ef10110a9",
   "metadata": {},
   "outputs": [],
   "source": [
    "def gauss_seidel(A_, b_,x_):\n",
    "    A = A_.copy()\n",
    "    b = b_.copy()\n",
    "    x= x_.copy()\n",
    "    n = A.shape[0]\n",
    "    it = 0\n",
    "    \n",
    "    for k in range(n):\n",
    "        it = it + 1   \n",
    "        x_viejo  = x.copy()\n",
    "        \n",
    "        for i in range(n):\n",
    "            x[i] = (b[i] - np.dot(A[i,:i], x[:i]) - np.dot(A[i,(i+1):], x_viejo[(i+1):])) / A[i ,i]\n",
    "    \n",
    "           \n",
    "    return x,it"
   ]
  },
  {
   "cell_type": "code",
   "execution_count": 20,
   "id": "9cf76fce-8677-4a6f-886a-5207d0329a3f",
   "metadata": {},
   "outputs": [
    {
     "data": {
      "text/plain": [
       "(array([0.96296296, 1.00617284, 1.01697531]), 3)"
      ]
     },
     "execution_count": 20,
     "metadata": {},
     "output_type": "execute_result"
    }
   ],
   "source": [
    "gauss_seidel(M,b,z)"
   ]
  },
  {
   "cell_type": "code",
   "execution_count": null,
   "id": "cd2b115f-6233-4d33-be84-43aa9947dca5",
   "metadata": {},
   "outputs": [],
   "source": []
  }
 ],
 "metadata": {
  "kernelspec": {
   "display_name": "Python 3 (ipykernel)",
   "language": "python",
   "name": "python3"
  },
  "language_info": {
   "codemirror_mode": {
    "name": "ipython",
    "version": 3
   },
   "file_extension": ".py",
   "mimetype": "text/x-python",
   "name": "python",
   "nbconvert_exporter": "python",
   "pygments_lexer": "ipython3",
   "version": "3.7.12"
  }
 },
 "nbformat": 4,
 "nbformat_minor": 5
}
