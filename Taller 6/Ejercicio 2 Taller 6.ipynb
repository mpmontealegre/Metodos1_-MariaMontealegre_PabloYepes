{
 "cells": [
  {
   "cell_type": "code",
   "execution_count": 1,
   "id": "58672959-43c1-4e38-9053-19509d00c41a",
   "metadata": {},
   "outputs": [],
   "source": [
    "import numpy as np\n",
    "import matplotlib.pyplot as plt"
   ]
  },
  {
   "cell_type": "code",
   "execution_count": 56,
   "id": "fbc65a82-3170-4dc3-85a2-585c1a6d7c04",
   "metadata": {},
   "outputs": [],
   "source": [
    "class Solver:\n",
    "    def __init__ (self, A_,b_,x_):\n",
    "        self.A = A_.copy()\n",
    "        self.b = b_.copy()\n",
    "        self.x= x_.copy()\n",
    "        self.n = self.A.shape[0]\n",
    "        \n",
    "    def Jacobi(self):\n",
    "\n",
    "        for i in range(self.n):\n",
    "\n",
    "            for j in range(i+1,self.n):\n",
    "            \n",
    "                a = self.A[j,i]/self.A[i,i]\n",
    "                self.A[j,:] -= a*self.A[i,:]\n",
    "                self.b[j] -= a*self.b[i]\n",
    "         \n",
    "       \n",
    "        x = np.zeros_like(self.b)\n",
    "\n",
    "    \n",
    "        for i in reversed(range(self.n)):\n",
    "        \n",
    "    \n",
    "            x[i] = self.b[i]\n",
    "        \n",
    "            for j in range( i+1, self.n ):\n",
    "                x[i] -= self.A[i,j]*x[j]\n",
    "    \n",
    "        return x\n",
    "    def Seidel(self):\n",
    "        it = 0\n",
    "    \n",
    "        for k in range(self.n):\n",
    "            it = it + 1   \n",
    "            x_viejo  = self.x.copy()\n",
    "        \n",
    "            for i in range(self.n):\n",
    "                self.x[i] = (self.b[i] - np.dot(self.A[i,:i], self.x[:i]) - np.dot(self.A[i,(i+1):], x_viejo[(i+1):])) / self.A[i ,i]\n",
    "    \n",
    "           \n",
    "        return self.x,it"
   ]
  },
  {
   "cell_type": "code",
   "execution_count": 57,
   "id": "a3b364be-0b71-4c3d-b4da-1bbb23986381",
   "metadata": {},
   "outputs": [],
   "source": [
    "M = np.array([[3,-1,-1],[-1.,3.,1.],[2,1,4]])\n",
    "b = np.array([1.,3.,7.])\n",
    "z= np.array([0.,0.,0.])\n",
    "sol=Solver(M,b,z)"
   ]
  },
  {
   "cell_type": "code",
   "execution_count": 58,
   "id": "f21dac1e-f032-4089-85ed-0c95bf554d5e",
   "metadata": {},
   "outputs": [
    {
     "data": {
      "text/plain": [
       "array([5.75, 0.5 , 4.25])"
      ]
     },
     "execution_count": 58,
     "metadata": {},
     "output_type": "execute_result"
    }
   ],
   "source": [
    "sol.Jacobi()"
   ]
  },
  {
   "cell_type": "code",
   "execution_count": 59,
   "id": "bd69410a-a908-407d-a767-3e415e8f973e",
   "metadata": {},
   "outputs": [
    {
     "data": {
      "text/plain": [
       "(array([1., 1., 1.]), 3)"
      ]
     },
     "execution_count": 59,
     "metadata": {},
     "output_type": "execute_result"
    }
   ],
   "source": [
    "sol.Seidel()"
   ]
  },
  {
   "cell_type": "code",
   "execution_count": null,
   "id": "6f5c7edd-cb85-4438-98b3-878cee716475",
   "metadata": {},
   "outputs": [],
   "source": []
  }
 ],
 "metadata": {
  "kernelspec": {
   "display_name": "Python 3 (ipykernel)",
   "language": "python",
   "name": "python3"
  },
  "language_info": {
   "codemirror_mode": {
    "name": "ipython",
    "version": 3
   },
   "file_extension": ".py",
   "mimetype": "text/x-python",
   "name": "python",
   "nbconvert_exporter": "python",
   "pygments_lexer": "ipython3",
   "version": "3.7.12"
  }
 },
 "nbformat": 4,
 "nbformat_minor": 5
}
