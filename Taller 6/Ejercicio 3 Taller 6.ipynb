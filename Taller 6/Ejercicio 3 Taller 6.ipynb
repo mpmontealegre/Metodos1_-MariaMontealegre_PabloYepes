{
 "cells": [
  {
   "cell_type": "code",
   "execution_count": 1,
   "id": "96f92b24-68c4-44db-9647-af078845f2f8",
   "metadata": {},
   "outputs": [],
   "source": [
    "import numpy as np\n",
    "import matplotlib.pyplot as plt"
   ]
  },
  {
   "cell_type": "code",
   "execution_count": 7,
   "id": "2fc24b3d-0cfb-4f03-8802-043fadf0072f",
   "metadata": {},
   "outputs": [],
   "source": [
    "A=np.array([[1,0,0],[5,1,0],[-2,3,1]])\n",
    "B=np.array([[4,-2,1],[0,3,7],[0,0,2]])"
   ]
  },
  {
   "cell_type": "code",
   "execution_count": 19,
   "id": "a3dbd407-2314-4ae3-bd60-bd36145b99af",
   "metadata": {},
   "outputs": [],
   "source": [
    "def MultiplicadorMatrices(A,B):\n",
    "    C = np.zeros((A.shape[0],B.shape[1]),dtype = int)\n",
    "    for i in range(len(A)):\n",
    "        for j in range(len(B)):\n",
    "            for k in range(0,3):\n",
    "                C[i,j] +=A[i,k]*B[k,j]\n",
    "    return C"
   ]
  },
  {
   "cell_type": "code",
   "execution_count": 22,
   "id": "b8502e20-5c31-4d7a-892a-37dce76cd12a",
   "metadata": {},
   "outputs": [
    {
     "data": {
      "text/plain": [
       "array([[ 4, -2,  1],\n",
       "       [20, -7, 12],\n",
       "       [-8, 13, 21]])"
      ]
     },
     "execution_count": 22,
     "metadata": {},
     "output_type": "execute_result"
    }
   ],
   "source": [
    "C=MultiplicadorMatrices(A,B)\n",
    "C"
   ]
  },
  {
   "cell_type": "code",
   "execution_count": 23,
   "id": "6d9e5c47-7f26-47e8-8b09-2f793f79e322",
   "metadata": {},
   "outputs": [
    {
     "data": {
      "text/plain": [
       "array([[ 4, -2,  1],\n",
       "       [20, -7, 12],\n",
       "       [-8, 13, 21]])"
      ]
     },
     "execution_count": 23,
     "metadata": {},
     "output_type": "execute_result"
    }
   ],
   "source": [
    "np.dot(A,B)"
   ]
  },
  {
   "cell_type": "code",
   "execution_count": null,
   "id": "dd2f9afa-c341-4376-addc-704b62d3b2bc",
   "metadata": {},
   "outputs": [],
   "source": []
  }
 ],
 "metadata": {
  "kernelspec": {
   "display_name": "Python 3 (ipykernel)",
   "language": "python",
   "name": "python3"
  },
  "language_info": {
   "codemirror_mode": {
    "name": "ipython",
    "version": 3
   },
   "file_extension": ".py",
   "mimetype": "text/x-python",
   "name": "python",
   "nbconvert_exporter": "python",
   "pygments_lexer": "ipython3",
   "version": "3.7.12"
  }
 },
 "nbformat": 4,
 "nbformat_minor": 5
}
