{
 "cells": [
  {
   "cell_type": "code",
   "execution_count": 11,
   "id": "a7729115",
   "metadata": {},
   "outputs": [],
   "source": [
    "import numpy as np\n",
    "import matplotlib.pyplot as plt\n",
    "from IPython.display import clear_output\n",
    "import time"
   ]
  },
  {
   "cell_type": "code",
   "execution_count": 12,
   "id": "757ef3b1",
   "metadata": {},
   "outputs": [],
   "source": [
    "# Definamos el sistema en una tupla\n",
    "G=(lambda v,x,y,z: ((v**2)+(x**2)+(y**2)+(z**2)-1))"
   ]
  },
  {
   "cell_type": "code",
   "execution_count": 13,
   "id": "6d59560f",
   "metadata": {},
   "outputs": [],
   "source": [
    "def GetVectorF(G,r):\n",
    "    \n",
    "    dim = 4\n",
    "    \n",
    "    v = np.zeros(dim)\n",
    "    \n",
    "    for i in range(dim):\n",
    "        v[i] = G(r[0],r[1],r[2],r[3])\n",
    "        \n",
    "    return v"
   ]
  },
  {
   "cell_type": "code",
   "execution_count": 14,
   "id": "2b409eb4",
   "metadata": {},
   "outputs": [],
   "source": [
    "def GetJacobian(G,r,h=1e-6):\n",
    "    \n",
    "    dim = 4\n",
    "    \n",
    "    J = np.zeros((dim,1))\n",
    "    \n",
    "    J[0] = (  G(r[0]+h,r[1],r[2],r[3]) - G(r[0]-h,r[1],r[2],r[3]) )/(2*h)\n",
    "    J[1] = (  G(r[0],r[1]+h,r[2],r[3]) - G(r[0],r[1]-h,r[2],r[3]) )/(2*h)\n",
    "    J[2] = (  G(r[0],r[1],r[2]+h,r[3]) - G(r[0],r[1],r[2]-h,r[3]) )/(2*h)\n",
    "    J[3] = (  G(r[0],r[1],r[2],r[3]+h) - G(r[0],r[1],r[2],r[3]-h) )/(2*h)\n",
    "        \n",
    "    return J.T"
   ]
  },
  {
   "cell_type": "code",
   "execution_count": 15,
   "id": "50720cd4",
   "metadata": {},
   "outputs": [
    {
     "data": {
      "text/plain": [
       "array([[2., 2., 2., 2.]])"
      ]
     },
     "execution_count": 15,
     "metadata": {},
     "output_type": "execute_result"
    }
   ],
   "source": [
    "GetJacobian(G,[1,1,1,1])"
   ]
  },
  {
   "cell_type": "code",
   "execution_count": 16,
   "id": "ade387f3",
   "metadata": {},
   "outputs": [],
   "source": [
    "def GetMetric(G,r):\n",
    "    v = GetVectorF(G,r)\n",
    "    return 0.5*np.linalg.norm(v)**2"
   ]
  },
  {
   "cell_type": "code",
   "execution_count": 17,
   "id": "58f44df9",
   "metadata": {},
   "outputs": [
    {
     "data": {
      "text/plain": [
       "2.0"
      ]
     },
     "execution_count": 17,
     "metadata": {},
     "output_type": "execute_result"
    }
   ],
   "source": [
    "GetMetric(G,[0,0,0,0])"
   ]
  },
  {
   "cell_type": "code",
   "execution_count": 18,
   "id": "e7be7cdf",
   "metadata": {},
   "outputs": [],
   "source": [
    "def GetSolve(G,r,lr=1e-3,epochs=int(1e5),error=1e-7):\n",
    "    \n",
    "    d = 1\n",
    "    it = 0\n",
    "    Vector_F = np.array([])\n",
    "    \n",
    "    R_vector = np.array(r)\n",
    "    \n",
    "    while d > error and it < epochs:\n",
    "        \n",
    "        CurrentF = GetMetric(G,r)\n",
    "        \n",
    "        J = GetJacobian(G,r)\n",
    "        \n",
    "        GVector = GetVectorF(G,r)\n",
    "        \n",
    "        #Machine Learning\n",
    "        r -= lr*np.dot(J,GVector) \n",
    "        \n",
    "        R_vector = np.vstack((R_vector,r))\n",
    "        \n",
    "        NewF = GetMetric(G,r)\n",
    "        \n",
    "        \n",
    "        Vector_F = np.append(Vector_F,NewF)\n",
    "        \n",
    "        d = np.abs( CurrentF - NewF )/NewF\n",
    "        \n",
    "        \n",
    "        if it%500 == 0:\n",
    "            \n",
    "            #print(it,d)\n",
    "            clear_output(wait=True)\n",
    "            time.sleep(0.01)\n",
    "            \n",
    "        it += 1\n",
    "        \n",
    "    if d < error:\n",
    "        print(' Entrenamiento completo ', d, 'iteraciones', it)\n",
    "        \n",
    "    if it == epochs:\n",
    "        print(' Entrenamiento no completado ')\n",
    "        \n",
    "    return r,it,Vector_F,R_vector"
   ]
  },
  {
   "cell_type": "code",
   "execution_count": 19,
   "id": "be3f1fc1",
   "metadata": {},
   "outputs": [
    {
     "name": "stdout",
     "output_type": "stream",
     "text": [
      " Entrenamiento no completado \n",
      "[array([ 0.01105555,  0.83105555,  0.48105555, -0.27894445]), array([-0.38298026, -0.31298026, -0.71298026,  0.49701974]), array([ 0.29044607,  0.30044607,  0.85044607, -0.31955393]), array([-0.13149935,  0.61850065,  0.66850065, -0.39149935]), array([0.24634417, 0.56634417, 0.73634417, 0.27634417]), array([ 0.12912096,  0.41912096,  0.88912096, -0.13087904]), array([-0.62733775, -0.65733775,  0.28266225, -0.30733775]), array([-0.13048644,  0.79951356,  0.22951356,  0.53951356]), array([-0.2465942, -0.5265942, -0.6365942, -0.5065942]), array([-0.39339841, -0.64339841, -0.49339841, -0.43339841]), array([-0.78796623, -0.00796623,  0.60203377, -0.09796623]), array([0.77831212, 0.22831212, 0.42831212, 0.39831212]), array([ 0.60406128,  0.66406128,  0.38406128, -0.21593872]), array([ 0.1166431,  0.1466431, -0.9533569,  0.2366431]), array([-0.29973981, -0.41973981, -0.83973981, -0.16973981]), array([-0.00484753, -0.40484753, -0.41484753, -0.81484753]), array([ 0.25128336,  0.67128336,  0.67128336, -0.18871664]), array([ 0.15564439,  0.19564439, -0.76435561, -0.59435561]), array([0.51975602, 0.01975602, 0.29975602, 0.79975602]), array([0.79856484, 0.47856484, 0.35856484, 0.06856484]), array([-0.73750772, -0.37750772,  0.05249228, -0.55750772]), array([ 0.26605743,  0.06605743, -0.10394257,  0.95605743]), array([-0.66070235, -0.71070235, -0.12070235,  0.20929765]), array([-0.54542911, -0.55542911, -0.38542911, -0.49542911]), array([-0.1954744, -0.4354744, -0.8754744, -0.0754744]), array([ 0.44576615,  0.63576615,  0.62576615, -0.07423385]), array([0.50623583, 0.47623583, 0.41623583, 0.58623583]), array([-0.58573477,  0.26426523,  0.62426523,  0.44426523]), array([0.96680996, 0.06680996, 0.22680996, 0.09680996]), array([-0.56580329, -0.41580329,  0.22419671, -0.67580329]), array([0.21209009, 0.30209009, 0.50209009, 0.78209009])]\n"
     ]
    }
   ],
   "source": [
    "ans = []\n",
    "for i in range(100):\n",
    "    a = np.random.uniform(-1, 1, 4)\n",
    "    r = a.round(2)\n",
    "    psolu,it,F,R = GetSolve(G,r,lr=1e-4)\n",
    "    solu=psolu[0]**2+psolu[1]**2+psolu[2]**2+psolu[3]**2\n",
    "    if 0.95 < solu <= 1.0:\n",
    "        ans.append(psolu)\n",
    "print(ans)"
   ]
  },
  {
   "cell_type": "code",
   "execution_count": null,
   "id": "c8c88b46",
   "metadata": {},
   "outputs": [],
   "source": [
    "# La figura que resulta es una esfera, ya que para el caso de la 2-esfera resulta un círculo."
   ]
  }
 ],
 "metadata": {
  "kernelspec": {
   "display_name": "Python 3 (ipykernel)",
   "language": "python",
   "name": "python3"
  },
  "language_info": {
   "codemirror_mode": {
    "name": "ipython",
    "version": 3
   },
   "file_extension": ".py",
   "mimetype": "text/x-python",
   "name": "python",
   "nbconvert_exporter": "python",
   "pygments_lexer": "ipython3",
   "version": "3.9.12"
  }
 },
 "nbformat": 4,
 "nbformat_minor": 5
}
