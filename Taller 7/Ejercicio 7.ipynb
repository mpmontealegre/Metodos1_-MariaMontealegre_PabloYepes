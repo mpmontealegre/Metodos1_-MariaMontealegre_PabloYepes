{
 "cells": [
  {
   "cell_type": "code",
   "execution_count": 1,
   "id": "d09a4722-c8b6-4739-8d3e-c47240fbc636",
   "metadata": {},
   "outputs": [],
   "source": [
    "import pandas as pd\n",
    "import numpy as np\n",
    "import sympy as sym\n",
    "import matplotlib.pyplot as plt"
   ]
  },
  {
   "cell_type": "code",
   "execution_count": 2,
   "id": "bcf287a2-68f4-4f79-9fe3-560769a795ca",
   "metadata": {},
   "outputs": [],
   "source": [
    "url=\"https://raw.githubusercontent.com/asegura4488/Database/main/MetodosComputacionalesReforma/Sigmoid.csv\"\n",
    "\n",
    "Data= pd.read_csv(url)"
   ]
  },
  {
   "cell_type": "code",
   "execution_count": 3,
   "id": "4a99ccb3-b49e-4380-b68c-5d1ba7094c62",
   "metadata": {},
   "outputs": [],
   "source": [
    "x=np.float64(Data['x'])\n",
    "y=np.float64(Data['y'])\n",
    "theta=[1,1,1]\n",
    "sigma=1"
   ]
  },
  {
   "cell_type": "code",
   "execution_count": 21,
   "id": "51c14a18-adce-4ec8-9b5d-2dd916fb3b2c",
   "metadata": {},
   "outputs": [],
   "source": [
    "M= lambda x,theta: (theta[0]/(theta[1]+np.exp(-theta[2]*x)))"
   ]
  },
  {
   "cell_type": "code",
   "execution_count": 5,
   "id": "1682efc4-a177-498d-adf3-cb5098257b8e",
   "metadata": {},
   "outputs": [],
   "source": [
    "chi=0\n",
    "for i in range(len(x)):\n",
    "    chi+= (y[i]-M(x[i],theta))**2"
   ]
  },
  {
   "cell_type": "code",
   "execution_count": 6,
   "id": "727d0595-6cdc-4719-be4d-4cc9b138dfb4",
   "metadata": {},
   "outputs": [],
   "source": [
    "def GetFit(x,y,n):\n",
    "    \n",
    "    DataSize = x.shape[0]\n",
    "    \n",
    "    b = y\n",
    "    \n",
    "    A = np.ones((DataSize,n+1))\n",
    "    \n",
    "    for i in range(1,n+1):\n",
    "        A[:,i] = x**i\n",
    "    \n",
    "    AT = np.dot(A.T,A)\n",
    "    bT = A.T @ b\n",
    "\n",
    "    xsol = np.linalg.solve(AT,bT)\n",
    "    \n",
    "    return xsol"
   ]
  },
  {
   "cell_type": "code",
   "execution_count": 7,
   "id": "bfb52bad-6f0b-4e4d-97d2-9dbd1a9ae984",
   "metadata": {},
   "outputs": [
    {
     "data": {
      "text/plain": [
       "array([ 2.27271654e+00,  9.01909984e-01,  8.23207483e-03, -1.85208111e-02,\n",
       "       -2.16298808e-04,  1.28183181e-04,  1.10173465e-06])"
      ]
     },
     "execution_count": 7,
     "metadata": {},
     "output_type": "execute_result"
    }
   ],
   "source": [
    "param = GetFit(x,y,6)\n",
    "param"
   ]
  },
  {
   "cell_type": "code",
   "execution_count": 8,
   "id": "f206fa24-9213-4ca7-905f-88d900d4b78b",
   "metadata": {},
   "outputs": [],
   "source": [
    "def GetModel(x,p):\n",
    "    \n",
    "    y = 0\n",
    "    for n in range(len(p)):\n",
    "        y += p[n]*x**n\n",
    "        \n",
    "    return y"
   ]
  },
  {
   "cell_type": "code",
   "execution_count": 9,
   "id": "0d7b805c-c182-46d2-a4d0-7890d1704b3b",
   "metadata": {},
   "outputs": [
    {
     "data": {
      "text/latex": [
       "$\\displaystyle 1.10173465234765 \\cdot 10^{-6} x^{6} + 0.000128183180653924 x^{5} - 0.000216298807750147 x^{4} - 0.0185208110579657 x^{3} + 0.00823207483446652 x^{2} + 0.901909983831775 x + 2.27271653867336$"
      ],
      "text/plain": [
       "1.10173465234765e-6*x**6 + 0.000128183180653924*x**5 - 0.000216298807750147*x**4 - 0.0185208110579657*x**3 + 0.00823207483446652*x**2 + 0.901909983831775*x + 2.27271653867336"
      ]
     },
     "execution_count": 9,
     "metadata": {},
     "output_type": "execute_result"
    }
   ],
   "source": [
    "X = sym.Symbol('x',real=True)\n",
    "GetModel(X,param)"
   ]
  },
  {
   "cell_type": "code",
   "execution_count": 10,
   "id": "204a6086-e9b9-4e7d-bef3-5715b4b86881",
   "metadata": {},
   "outputs": [
    {
     "data": {
      "text/plain": [
       "<matplotlib.collections.PathCollection at 0x7fafc1583d90>"
      ]
     },
     "execution_count": 10,
     "metadata": {},
     "output_type": "execute_result"
    },
    {
     "data": {
      "image/png": "[encoded data removed]",
      "text/plain": [
       "<Figure size 500x500 with 1 Axes>"
      ]
     },
     "metadata": {},
     "output_type": "display_data"
    }
   ],
   "source": [
    "t = np.linspace(np.min(x),np.max(x),50)\n",
    "\n",
    "fig = plt.figure(figsize=(5,5))\n",
    "ax = fig.add_subplot(111)\n",
    "ax.plot(t,GetModel(t,param))\n",
    "ax.scatter(x,y,color=\"r\")"
   ]
  },
  {
   "cell_type": "code",
   "execution_count": null,
   "id": "1dfafa94-c38e-478d-9f3e-bc7aed235355",
   "metadata": {},
   "outputs": [],
   "source": []
  }
 ],
 "metadata": {
  "kernelspec": {
   "display_name": "Python 3 (ipykernel)",
   "language": "python",
   "name": "python3"
  },
  "language_info": {
   "codemirror_mode": {
    "name": "ipython",
    "version": 3
   },
   "file_extension": ".py",
   "mimetype": "text/x-python",
   "name": "python",
   "nbconvert_exporter": "python",
   "pygments_lexer": "ipython3",
   "version": "3.7.12"
  }
 },
 "nbformat": 4,
 "nbformat_minor": 5
}
