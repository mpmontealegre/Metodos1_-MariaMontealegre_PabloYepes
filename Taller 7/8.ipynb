{
 "cells": [
  {
   "cell_type": "code",
   "execution_count": 101,
   "id": "fca57f6e",
   "metadata": {},
   "outputs": [],
   "source": [
    "import numpy as np\n",
    "import sympy as sp\n",
    "import matplotlib.pyplot as plt\n",
    "\n",
    "V = np.array([[3,1,0,1],[1,2,1,1],[-1,0,2,-1]])\n",
    "b = np.array([[-3,-3, 8, 9]])\n",
    "\n",
    "def MinimosCuadrados():\n",
    "    A = np.array([[3, 1, -1], [1, 2, 0], [0, 1, 2], [1, 1, -1]])\n",
    "    b = np.array([[-3], [-3], [8], [9]])\n",
    "    \n",
    "    aA = np.dot(A.T,A)\n",
    "    ab = A.T @ b\n",
    "    sol = np.linalg.solve(aA,ab)\n",
    "    return sol\n",
    "\n",
    "def GramSchmidt(v):\n",
    "    size = v.shape\n",
    "    a = size[0]\n",
    "    b = size[1]\n",
    "    M = np.zeros((a,b))\n",
    "    for i in range(a):\n",
    "        M[i]=V[i]\n",
    "        for j in range(i):\n",
    "            p=V[i]-((np.dot(V[i],M[j]))/(np.linalg.norm(M[j]))**2)*M[j]\n",
    "            M[i]=p/np.linalg.norm(p)\n",
    "    return M\n",
    "\n",
    "u1 = V[0]/np.linalg.norm(V[0])\n",
    "u2 = GramSchmidt(V)[1]\n",
    "u3 = GramSchmidt(V)[2]\n",
    "c1 = np.dot(b, u1)\n",
    "c2 = np.dot(b, u2)\n",
    "c3 = np.dot(b, u3)\n",
    "\n",
    "p2_b = (c1*u1)+(c2*u2)+(c3*u3)"
   ]
  },
  {
   "cell_type": "code",
   "execution_count": null,
   "id": "58059c38",
   "metadata": {},
   "outputs": [],
   "source": []
  }
 ],
 "metadata": {
  "kernelspec": {
   "display_name": "Python 3 (ipykernel)",
   "language": "python",
   "name": "python3"
  },
  "language_info": {
   "codemirror_mode": {
    "name": "ipython",
    "version": 3
   },
   "file_extension": ".py",
   "mimetype": "text/x-python",
   "name": "python",
   "nbconvert_exporter": "python",
   "pygments_lexer": "ipython3",
   "version": "3.9.12"
  }
 },
 "nbformat": 4,
 "nbformat_minor": 5
}
