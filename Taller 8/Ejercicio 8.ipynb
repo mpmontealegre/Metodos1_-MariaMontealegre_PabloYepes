{
 "cells": [
  {
   "cell_type": "code",
   "execution_count": 2,
   "id": "97cfb7cd-81b8-47d3-b8af-e5a97a44fd00",
   "metadata": {},
   "outputs": [],
   "source": [
    "import random\n",
    "import numpy as np"
   ]
  },
  {
   "cell_type": "code",
   "execution_count": 12,
   "id": "a3114b68-25cf-4b22-ab71-7bdf22b7d37a",
   "metadata": {},
   "outputs": [],
   "source": [
    "conteo_favorable=0\n",
    "conteo_total=0\n",
    "for i in range(100000):\n",
    "    moneda1= random.choice([-1,1])\n",
    "    moneda2= random.choice([-1,1])\n",
    "    moneda3= random.choice([-1,1])\n",
    "    moneda4= random.choice([-1,1])\n",
    "    total= moneda1+moneda2+moneda3+moneda4\n",
    "    if total == 0:\n",
    "        conteo_favorable+=1\n",
    "        conteo_total+=1\n",
    "    else:\n",
    "        conteo_total+=1"
   ]
  },
  {
   "cell_type": "code",
   "execution_count": 13,
   "id": "06500a42-5697-4bd0-a0de-87000253de9f",
   "metadata": {},
   "outputs": [
    {
     "data": {
      "text/plain": [
       "37529"
      ]
     },
     "execution_count": 13,
     "metadata": {},
     "output_type": "execute_result"
    }
   ],
   "source": [
    "conteo_favorable"
   ]
  },
  {
   "cell_type": "code",
   "execution_count": 14,
   "id": "09244076-755f-460d-bd1c-228d33b2b1c4",
   "metadata": {},
   "outputs": [
    {
     "data": {
      "text/plain": [
       "100000"
      ]
     },
     "execution_count": 14,
     "metadata": {},
     "output_type": "execute_result"
    }
   ],
   "source": [
    "conteo_total"
   ]
  },
  {
   "cell_type": "code",
   "execution_count": 16,
   "id": "cd310f69-2a2e-4faa-8660-387b0eaa65b9",
   "metadata": {},
   "outputs": [
    {
     "data": {
      "text/plain": [
       "(0.37529, 0.375)"
      ]
     },
     "execution_count": 16,
     "metadata": {},
     "output_type": "execute_result"
    }
   ],
   "source": [
    "conteo_favorable/conteo_total, 3/8"
   ]
  },
  {
   "cell_type": "code",
   "execution_count": null,
   "id": "2cdd3ae4-6062-430b-b1f4-e28f43ea3621",
   "metadata": {},
   "outputs": [],
   "source": []
  }
 ],
 "metadata": {
  "kernelspec": {
   "display_name": "Python 3 (ipykernel)",
   "language": "python",
   "name": "python3"
  },
  "language_info": {
   "codemirror_mode": {
    "name": "ipython",
    "version": 3
   },
   "file_extension": ".py",
   "mimetype": "text/x-python",
   "name": "python",
   "nbconvert_exporter": "python",
   "pygments_lexer": "ipython3",
   "version": "3.7.12"
  }
 },
 "nbformat": 4,
 "nbformat_minor": 5
}
