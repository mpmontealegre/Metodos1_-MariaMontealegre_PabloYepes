{
 "cells": [
  {
   "cell_type": "code",
   "execution_count": 2,
   "id": "35c7bcf9-1285-44c2-8d14-29bca502e608",
   "metadata": {},
   "outputs": [],
   "source": [
    "import random\n",
    "import numpy as np"
   ]
  },
  {
   "cell_type": "code",
   "execution_count": 16,
   "id": "5495a47f-7328-4e5f-b695-6c3c5946de93",
   "metadata": {},
   "outputs": [],
   "source": [
    "a=np.array([-1,1])\n",
    "minprob1=0\n",
    "maxprob1=0\n",
    "minprob2=0\n",
    "maxprob2=0\n",
    "minprob=0.5\n",
    "maxprob=0"
   ]
  },
  {
   "cell_type": "code",
   "execution_count": 23,
   "id": "a356edf8-162a-4341-ae57-391bfc78c53e",
   "metadata": {},
   "outputs": [],
   "source": [
    "for j in range(9):\n",
    "    truncamiento1= np.random.randint(1,9)\n",
    "    p1=truncamiento1/10\n",
    "    prob1=np.array([1-p1,p1])\n",
    "    \n",
    "    conteo_favorable=0\n",
    "    conteo_total=0\n",
    "    \n",
    "    truncamiento2= np.random.randint(1,5)\n",
    "    p2=truncamiento2/10\n",
    "    prob2=np.array([1-p1,p1])\n",
    "    \n",
    "    for i in range(100000):\n",
    "        moneda1= np.random.choice(a,p=(prob1))\n",
    "        moneda2= np.random.choice(a,p=(prob2))\n",
    "        moneda3= random.choice([-1,1])\n",
    "        moneda4= random.choice([-1,1])\n",
    "        total= moneda1+moneda2+moneda3+moneda4\n",
    "        if total == 0:\n",
    "            conteo_favorable+=1\n",
    "            conteo_total+=1\n",
    "        else:\n",
    "            conteo_total+=1\n",
    "            \n",
    "        if (conteo_favorable/conteo_total) > maxprob:\n",
    "            maxprob=conteo_favorable/conteo_total\n",
    "            maxprob1 =  p1\n",
    "            maxprob2 = p2\n",
    "        elif (conteo_favorable/conteo_total) < minprob:\n",
    "            minprob=conteo_favorable/conteo_total\n",
    "            minprob1= p1\n",
    "            minprob2= p2"
   ]
  },
  {
   "cell_type": "code",
   "execution_count": 24,
   "id": "c6cefee3-15b5-4e05-924a-c455bb7c65c5",
   "metadata": {},
   "outputs": [
    {
     "name": "stdout",
     "output_type": "stream",
     "text": [
      "la maxima probalilidad fue:  1.0 la probabilidad que maximiza al dado 1 es:  0.5 la probabilidad que maximiza al dado 2 es:  0.2 la minima probalilidad fue:  0.0 la probabilidad que minimiza al dado 1 es:  0.8 la probabilidad que minimiza al dado 2 es:  0.4 para que aparezcan 2 caras y 2 sellos\n"
     ]
    }
   ],
   "source": [
    "print(\"la maxima probalilidad fue: \",maxprob, \"la probabilidad que maximiza al dado 1 es: \" ,maxprob1,\"la probabilidad que maximiza al dado 2 es: \",maxprob2, \"la minima probalilidad fue: \" ,minprob, \"la probabilidad que minimiza al dado 1 es: \" ,minprob1,\"la probabilidad que minimiza al dado 2 es: \",minprob2, \"para que aparezcan 2 caras y 2 sellos\")"
   ]
  },
  {
   "cell_type": "code",
   "execution_count": 11,
   "id": "cd24cb35-bc45-42cb-aa71-f43d43e28355",
   "metadata": {},
   "outputs": [
    {
     "name": "stdout",
     "output_type": "stream",
     "text": [
      "-1 0.4\n"
     ]
    }
   ],
   "source": [
    "truncamiento1= np.random.randint(1,9)\n",
    "p1=truncamiento1/10\n",
    "prob1=np.array([1-p1,p1])\n",
    "moneda1= np.random.choice(a,p=(prob1))\n",
    "print(moneda1,p1)"
   ]
  },
  {
   "cell_type": "code",
   "execution_count": null,
   "id": "d7d2a3c5-3a6a-4625-9830-81a40ff805da",
   "metadata": {},
   "outputs": [],
   "source": []
  }
 ],
 "metadata": {
  "kernelspec": {
   "display_name": "Python 3 (ipykernel)",
   "language": "python",
   "name": "python3"
  },
  "language_info": {
   "codemirror_mode": {
    "name": "ipython",
    "version": 3
   },
   "file_extension": ".py",
   "mimetype": "text/x-python",
   "name": "python",
   "nbconvert_exporter": "python",
   "pygments_lexer": "ipython3",
   "version": "3.7.12"
  }
 },
 "nbformat": 4,
 "nbformat_minor": 5
}
