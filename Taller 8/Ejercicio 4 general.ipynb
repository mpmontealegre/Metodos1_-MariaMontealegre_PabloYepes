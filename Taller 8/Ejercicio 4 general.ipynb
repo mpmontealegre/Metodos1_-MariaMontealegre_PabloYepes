{
 "cells": [
  {
   "cell_type": "code",
   "execution_count": 33,
   "id": "07dc91e3-0d88-4a70-b2b1-7ba49f672c33",
   "metadata": {},
   "outputs": [],
   "source": [
    "cumpleaños=1\n",
    "for i in range (81):\n",
    "    cumpleaños*= ((365-i)/365)"
   ]
  },
  {
   "cell_type": "code",
   "execution_count": 36,
   "id": "80538d25-d1ce-42c0-bb3f-00496262297d",
   "metadata": {},
   "outputs": [
    {
     "data": {
      "text/plain": [
       "6.689149163192876e-05"
      ]
     },
     "execution_count": 36,
     "metadata": {},
     "output_type": "execute_result"
    }
   ],
   "source": [
    "print(\"la probabilidad de que 80\")cumpleaños"
   ]
  },
  {
   "cell_type": "code",
   "execution_count": null,
   "id": "21f73057-bfc5-42c9-9c7c-1a1913cb83d2",
   "metadata": {},
   "outputs": [],
   "source": []
  }
 ],
 "metadata": {
  "kernelspec": {
   "display_name": "Python 3 (ipykernel)",
   "language": "python",
   "name": "python3"
  },
  "language_info": {
   "codemirror_mode": {
    "name": "ipython",
    "version": 3
   },
   "file_extension": ".py",
   "mimetype": "text/x-python",
   "name": "python",
   "nbconvert_exporter": "python",
   "pygments_lexer": "ipython3",
   "version": "3.7.12"
  }
 },
 "nbformat": 4,
 "nbformat_minor": 5
}
