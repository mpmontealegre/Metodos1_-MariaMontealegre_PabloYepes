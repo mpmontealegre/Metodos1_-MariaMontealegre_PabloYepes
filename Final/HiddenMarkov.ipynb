{
 "cells": [
  {
   "cell_type": "code",
   "execution_count": 1,
   "id": "82c62f35",
   "metadata": {},
   "outputs": [],
   "source": [
    "import numpy as np\n",
    "import matplotlib.pyplot as plt\n",
    "from itertools import permutations\n",
    "from itertools import combinations\n",
    "from itertools import combinations_with_replacement"
   ]
  },
  {
   "cell_type": "code",
   "execution_count": 2,
   "id": "f9a22059",
   "metadata": {},
   "outputs": [],
   "source": [
    "# Definimos estados y priors\n",
    "States = np.array([0,1]) # 0 es cara, 1 es sello \n",
    "Prior =  np.array([0.2,0.8])"
   ]
  },
  {
   "cell_type": "code",
   "execution_count": 3,
   "id": "244c9635",
   "metadata": {},
   "outputs": [
    {
     "data": {
      "text/plain": [
       "array([[0.5, 0.9],\n",
       "       [0.5, 0.1]])"
      ]
     },
     "execution_count": 3,
     "metadata": {},
     "output_type": "execute_result"
    }
   ],
   "source": [
    "# Definimos matrices de emisión y transmision\n",
    "T = np.array([[0.8,0.2],[0.2,0.8]])\n",
    "\n",
    "E = np.array([[0.5,0.9],[0.5,0.1]])\n",
    "E\n",
    "#np.sum(T,axis=0)"
   ]
  },
  {
   "cell_type": "code",
   "execution_count": 4,
   "id": "f860d67e",
   "metadata": {},
   "outputs": [
    {
     "data": {
      "text/plain": [
       "'Cara'"
      ]
     },
     "execution_count": 4,
     "metadata": {},
     "output_type": "execute_result"
    }
   ],
   "source": [
    "DictH = {0:'Cara',1:'Sello'}\n",
    "DictH[0]"
   ]
  },
  {
   "cell_type": "code",
   "execution_count": 5,
   "id": "c67ca9f9",
   "metadata": {},
   "outputs": [
    {
     "data": {
      "text/plain": [
       "'Sesgada'"
      ]
     },
     "execution_count": 5,
     "metadata": {},
     "output_type": "execute_result"
    }
   ],
   "source": [
    "DictO = {0:'Justa',1:'Sesgada'}\n",
    "DictO[1]"
   ]
  },
  {
   "cell_type": "code",
   "execution_count": 6,
   "id": "dba99d56",
   "metadata": {},
   "outputs": [],
   "source": [
    "Obs = np.array([1,0,0,0,1,0,1,0])"
   ]
  },
  {
   "cell_type": "code",
   "execution_count": 7,
   "id": "51fccad5",
   "metadata": {},
   "outputs": [],
   "source": [
    "def GetHiddenStates(States, N):\n",
    "    \n",
    "    CStates = list( combinations_with_replacement(States,N) )\n",
    "    \n",
    "    Permu = []\n",
    "    \n",
    "    for it in CStates:\n",
    "        p = list(permutations(it,N))\n",
    "        \n",
    "        for i in p:\n",
    "            if i not in Permu:\n",
    "                Permu.append(i)\n",
    "    \n",
    "    print(CStates)\n",
    "    return np.array(Permu)"
   ]
  },
  {
   "cell_type": "code",
   "execution_count": 13,
   "id": "d0de0ac7",
   "metadata": {},
   "outputs": [
    {
     "name": "stdout",
     "output_type": "stream",
     "text": [
      "[(0, 0, 0, 0, 0, 0, 0, 0), (0, 0, 0, 0, 0, 0, 0, 1), (0, 0, 0, 0, 0, 0, 1, 1), (0, 0, 0, 0, 0, 1, 1, 1), (0, 0, 0, 0, 1, 1, 1, 1), (0, 0, 0, 1, 1, 1, 1, 1), (0, 0, 1, 1, 1, 1, 1, 1), (0, 1, 1, 1, 1, 1, 1, 1), (1, 1, 1, 1, 1, 1, 1, 1)]\n"
     ]
    }
   ],
   "source": [
    "HiddenStates = GetHiddenStates(States,8)"
   ]
  },
  {
   "cell_type": "code",
   "execution_count": 14,
   "id": "7df0b60e",
   "metadata": {},
   "outputs": [
    {
     "data": {
      "text/plain": [
       "array([[0, 0, 0, ..., 0, 0, 0],\n",
       "       [0, 0, 0, ..., 0, 0, 1],\n",
       "       [0, 0, 0, ..., 0, 1, 0],\n",
       "       ...,\n",
       "       [1, 1, 1, ..., 1, 0, 1],\n",
       "       [1, 1, 1, ..., 1, 1, 0],\n",
       "       [1, 1, 1, ..., 1, 1, 1]])"
      ]
     },
     "execution_count": 14,
     "metadata": {},
     "output_type": "execute_result"
    }
   ],
   "source": [
    "HiddenStates"
   ]
  },
  {
   "cell_type": "code",
   "execution_count": 15,
   "id": "4234d944",
   "metadata": {},
   "outputs": [
    {
     "name": "stdout",
     "output_type": "stream",
     "text": [
      "[1 0 0 0 1 0 1 0]\n"
     ]
    }
   ],
   "source": [
    "print(Obs)"
   ]
  },
  {
   "cell_type": "code",
   "execution_count": 16,
   "id": "ed216933",
   "metadata": {},
   "outputs": [],
   "source": [
    "def GetProb(T,E,Obs,State,Prior):\n",
    "    \n",
    "    n = len(Obs)\n",
    "    p = 1.\n",
    "    \n",
    "    p *= Prior[State[0] ]\n",
    "    \n",
    "    for i in range(n-1):\n",
    "        p *= T[ State[i+1], State[i] ]\n",
    "    \n",
    "    \n",
    "    \n",
    "    for i in range(n):\n",
    "        p *= E[ Obs[i], State[i] ]\n",
    "        \n",
    "    #print(p, State)\n",
    "    \n",
    "    return p"
   ]
  },
  {
   "cell_type": "code",
   "execution_count": 17,
   "id": "963533a1",
   "metadata": {},
   "outputs": [
    {
     "name": "stdout",
     "output_type": "stream",
     "text": [
      "[1.63840000e-04 7.37280000e-05 2.04800000e-06 1.84320000e-05\n",
      " 2.04800000e-06 1.84320000e-05 1.84320000e-05 1.84320000e-05\n",
      " 3.27680000e-05 1.47456000e-05 8.29440000e-06 3.68640000e-06\n",
      " 9.21600000e-07 2.56000000e-08 3.68640000e-06 8.29440000e-06\n",
      " 2.30400000e-07 2.07360000e-06 3.68640000e-06 8.29440000e-06\n",
      " 2.30400000e-07 2.07360000e-06 2.30400000e-07 3.31776000e-05\n",
      " 8.29440000e-06 2.30400000e-07 2.07360000e-06 2.30400000e-07\n",
      " 2.07360000e-06 3.31776000e-05 1.47456000e-05 4.09600000e-07\n",
      " 3.68640000e-06 4.09600000e-07 3.68640000e-06 3.68640000e-06\n",
      " 5.89824000e-05 2.65420800e-05 1.84320000e-07 1.65888000e-06\n",
      " 7.37280000e-07 1.65888000e-06 9.33120000e-07 4.14720000e-07\n",
      " 1.65888000e-06 4.60800000e-08 6.63552000e-06 1.65888000e-06\n",
      " 9.33120000e-07 4.14720000e-07 1.03680000e-07 2.88000000e-09\n",
      " 4.14720000e-07 1.49299200e-05 4.14720000e-07 3.73248000e-06\n",
      " 6.63552000e-06 1.65888000e-06 9.33120000e-07 4.14720000e-07\n",
      " 1.03680000e-07 2.88000000e-09 4.14720000e-07 9.33120000e-07\n",
      " 2.59200000e-08 2.33280000e-07 4.14720000e-07 1.49299200e-05\n",
      " 4.14720000e-07 3.73248000e-06 4.14720000e-07 5.97196800e-05\n",
      " 2.94912000e-06 1.65888000e-06 7.37280000e-07 1.84320000e-07\n",
      " 5.12000000e-09 7.37280000e-07 1.65888000e-06 4.60800000e-08\n",
      " 4.14720000e-07 7.37280000e-07 1.65888000e-06 4.60800000e-08\n",
      " 4.14720000e-07 4.60800000e-08 6.63552000e-06 2.65420800e-05\n",
      " 7.37280000e-07 6.63552000e-06 7.37280000e-07 6.63552000e-06\n",
      " 1.06168320e-04 5.30841600e-06 2.98598400e-06 3.31776000e-07\n",
      " 2.98598400e-06 1.32710400e-06 2.98598400e-06 2.07360000e-08\n",
      " 1.86624000e-07 8.29440000e-08 2.98598400e-06 1.67961600e-06\n",
      " 7.46496000e-07 2.98598400e-06 8.29440000e-08 1.19439360e-05\n",
      " 2.98598400e-06 2.07360000e-08 1.86624000e-07 8.29440000e-08\n",
      " 1.86624000e-07 1.04976000e-07 4.66560000e-08 1.86624000e-07\n",
      " 5.18400000e-09 7.46496000e-07 2.98598400e-06 1.67961600e-06\n",
      " 7.46496000e-07 1.86624000e-07 5.18400000e-09 7.46496000e-07\n",
      " 2.68738560e-05 7.46496000e-07 6.71846400e-06 1.19439360e-05\n",
      " 5.30841600e-06 3.68640000e-08 3.31776000e-07 1.47456000e-07\n",
      " 3.31776000e-07 1.86624000e-07 8.29440000e-08 3.31776000e-07\n",
      " 9.21600000e-09 1.32710400e-06 3.31776000e-07 1.86624000e-07\n",
      " 8.29440000e-08 2.07360000e-08 5.76000000e-10 8.29440000e-08\n",
      " 2.98598400e-06 8.29440000e-08 7.46496000e-07 1.32710400e-06\n",
      " 5.30841600e-06 2.98598400e-06 1.32710400e-06 3.31776000e-07\n",
      " 9.21600000e-09 1.32710400e-06 2.98598400e-06 8.29440000e-08\n",
      " 7.46496000e-07 1.32710400e-06 4.77757440e-05 1.32710400e-06\n",
      " 1.19439360e-05 1.32710400e-06 1.91102976e-04 9.55514880e-06\n",
      " 5.97196800e-07 5.37477120e-06 5.97196800e-07 5.37477120e-06\n",
      " 2.38878720e-06 5.97196800e-07 3.35923200e-07 3.73248000e-08\n",
      " 3.35923200e-07 1.49299200e-07 5.37477120e-06 3.73248000e-08\n",
      " 3.35923200e-07 1.49299200e-07 5.37477120e-06 3.02330880e-06\n",
      " 1.34369280e-06 5.37477120e-06 1.49299200e-07 2.14990848e-05\n",
      " 1.06168320e-06 5.97196800e-07 6.63552000e-08 5.97196800e-07\n",
      " 2.65420800e-07 5.97196800e-07 4.14720000e-09 3.73248000e-08\n",
      " 1.65888000e-08 5.97196800e-07 3.35923200e-07 1.49299200e-07\n",
      " 5.97196800e-07 1.65888000e-08 2.38878720e-06 9.55514880e-06\n",
      " 6.63552000e-08 5.97196800e-07 2.65420800e-07 5.97196800e-07\n",
      " 3.35923200e-07 1.49299200e-07 5.97196800e-07 1.65888000e-08\n",
      " 2.38878720e-06 9.55514880e-06 5.37477120e-06 2.38878720e-06\n",
      " 5.97196800e-07 1.65888000e-08 2.38878720e-06 8.59963392e-05\n",
      " 2.38878720e-06 2.14990848e-05 3.82205952e-05 1.71992678e-05\n",
      " 1.07495424e-06 1.07495424e-06 9.67458816e-06 1.07495424e-06\n",
      " 9.67458816e-06 4.29981696e-06 1.91102976e-06 1.19439360e-07\n",
      " 1.07495424e-06 1.19439360e-07 1.07495424e-06 4.77757440e-07\n",
      " 1.91102976e-06 1.07495424e-06 1.19439360e-07 1.07495424e-06\n",
      " 4.77757440e-07 1.71992678e-05 1.19439360e-07 1.07495424e-06\n",
      " 4.77757440e-07 1.71992678e-05 9.67458816e-06 4.29981696e-06\n",
      " 1.71992678e-05 4.77757440e-07 6.87970714e-05 3.09586821e-05\n",
      " 3.43985357e-06 3.43985357e-06 3.43985357e-06 3.09586821e-05\n",
      " 3.43985357e-06 3.09586821e-05 1.37594143e-05 9.90677828e-05]\n"
     ]
    }
   ],
   "source": [
    "dim = HiddenStates.shape[0]\n",
    "P = np.zeros(dim)\n",
    "\n",
    "for i in range(dim):\n",
    "    P[i] = GetProb(T,E,Obs,HiddenStates[i],Prior)\n",
    "    \n",
    "print(P)"
   ]
  },
  {
   "cell_type": "code",
   "execution_count": 18,
   "id": "fb6ceb07",
   "metadata": {},
   "outputs": [
    {
     "name": "stdout",
     "output_type": "stream",
     "text": [
      "0.0019344381513984013\n"
     ]
    }
   ],
   "source": [
    "PObs = np.sum(P)\n",
    "print(PObs)"
   ]
  },
  {
   "cell_type": "code",
   "execution_count": 19,
   "id": "519ae7bc",
   "metadata": {},
   "outputs": [
    {
     "name": "stdout",
     "output_type": "stream",
     "text": [
      "[[1 1 1 1 0 0 0 0]] 0.0001911029760000001\n"
     ]
    }
   ],
   "source": [
    "maxP = np.max(P)\n",
    "ii = np.where( P == np.amax(P))\n",
    "print(HiddenStates[ii],maxP)"
   ]
  },
  {
   "cell_type": "code",
   "execution_count": 20,
   "id": "71270b47",
   "metadata": {},
   "outputs": [
    {
     "data": {
      "text/plain": [
       "<matplotlib.lines.Line2D at 0x7f8de34f4b50>"
      ]
     },
     "execution_count": 20,
     "metadata": {},
     "output_type": "execute_result"
    },
    {
     "data": {
      "image/png": "[encoded data removed]",
      "text/plain": [
       "<Figure size 640x480 with 1 Axes>"
      ]
     },
     "metadata": {},
     "output_type": "display_data"
    }
   ],
   "source": [
    "plt.plot(P,color='k')\n",
    "plt.axhline(y=maxP)"
   ]
  },
  {
   "cell_type": "code",
   "execution_count": 23,
   "id": "63cdc4da",
   "metadata": {},
   "outputs": [
    {
     "name": "stdout",
     "output_type": "stream",
     "text": [
      "[(0, 0, 0, 0, 0, 0, 0, 0), (0, 0, 0, 0, 0, 0, 0, 1), (0, 0, 0, 0, 0, 0, 1, 1), (0, 0, 0, 0, 0, 1, 1, 1), (0, 0, 0, 0, 1, 1, 1, 1), (0, 0, 0, 1, 1, 1, 1, 1), (0, 0, 1, 1, 1, 1, 1, 1), (0, 1, 1, 1, 1, 1, 1, 1), (1, 1, 1, 1, 1, 1, 1, 1)]\n"
     ]
    }
   ],
   "source": [
    "ObsStates = GetHiddenStates([0,1],8)"
   ]
  },
  {
   "cell_type": "code",
   "execution_count": 24,
   "id": "76b3d658",
   "metadata": {},
   "outputs": [],
   "source": [
    "NObs = ObsStates.shape[0]\n",
    "\n",
    "PObs = np.zeros(NObs)\n",
    "\n",
    "for j in range(NObs):\n",
    "    \n",
    "    dim = HiddenStates.shape[0]\n",
    "    P = np.zeros(dim)\n",
    "    \n",
    "    for i in range(dim):\n",
    "        P[i] = GetProb(T,E,ObsStates[j],HiddenStates[i],Prior)\n",
    "        \n",
    "    PObs[j] = np.sum(P)"
   ]
  },
  {
   "cell_type": "code",
   "execution_count": 25,
   "id": "f18f2f1f",
   "metadata": {},
   "outputs": [
    {
     "data": {
      "text/plain": [
       "[<matplotlib.lines.Line2D at 0x7f8de32e3190>]"
      ]
     },
     "execution_count": 25,
     "metadata": {},
     "output_type": "execute_result"
    },
    {
     "data": {
      "image/png": "[encoded data removed]",
      "text/plain": [
       "<Figure size 640x480 with 1 Axes>"
      ]
     },
     "metadata": {},
     "output_type": "display_data"
    }
   ],
   "source": [
    "plt.plot(PObs)"
   ]
  },
  {
   "cell_type": "code",
   "execution_count": 26,
   "id": "c4e59d2f",
   "metadata": {},
   "outputs": [
    {
     "name": "stdout",
     "output_type": "stream",
     "text": [
      "[[0 0 0 0 0 0 0 0]] 0.13698241367042568\n"
     ]
    }
   ],
   "source": [
    "maxP = np.max(PObs)\n",
    "ii = np.where( PObs == np.amax(PObs))\n",
    "print(ObsStates[ii],maxP)"
   ]
  },
  {
   "cell_type": "code",
   "execution_count": 27,
   "id": "6d1aadc9",
   "metadata": {},
   "outputs": [
    {
     "data": {
      "text/plain": [
       "1.0000000000000007"
      ]
     },
     "execution_count": 27,
     "metadata": {},
     "output_type": "execute_result"
    }
   ],
   "source": [
    "np.sum(PObs)"
   ]
  },
  {
   "cell_type": "code",
   "execution_count": 28,
   "id": "efbfe30b",
   "metadata": {},
   "outputs": [
    {
     "data": {
      "text/plain": [
       "256"
      ]
     },
     "execution_count": 28,
     "metadata": {},
     "output_type": "execute_result"
    }
   ],
   "source": [
    "len(PObs)"
   ]
  },
  {
   "cell_type": "code",
   "execution_count": null,
   "id": "bd09b6b7-3ab9-4cc7-96cf-3f670a859cca",
   "metadata": {},
   "outputs": [],
   "source": []
  }
 ],
 "metadata": {
  "kernelspec": {
   "display_name": "Python 3 (ipykernel)",
   "language": "python",
   "name": "python3"
  },
  "language_info": {
   "codemirror_mode": {
    "name": "ipython",
    "version": 3
   },
   "file_extension": ".py",
   "mimetype": "text/x-python",
   "name": "python",
   "nbconvert_exporter": "python",
   "pygments_lexer": "ipython3",
   "version": "3.7.12"
  }
 },
 "nbformat": 4,
 "nbformat_minor": 5
}
