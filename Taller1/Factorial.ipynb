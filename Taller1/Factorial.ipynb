{
 "cells": [
  {
   "cell_type": "code",
   "execution_count": 2,
   "id": "b73674e7-d6ef-42a3-807e-9c5b2ef502be",
   "metadata": {},
   "outputs": [
    {
     "name": "stdout",
     "output_type": "stream",
     "text": [
      "1\n",
      "2\n",
      "6\n",
      "24\n",
      "120\n",
      "720\n",
      "5040\n",
      "40320\n",
      "362880\n",
      "3628800\n",
      "39916800\n",
      "479001600\n",
      "6227020800\n",
      "87178291200\n",
      "1307674368000\n",
      "20922789888000\n",
      "355687428096000\n",
      "6402373705728000\n",
      "121645100408832000\n",
      "2432902008176640000\n"
     ]
    }
   ],
   "source": [
    "n=20\n",
    "fact=1\n",
    "for i in range (1,n+1):\n",
    "    fact=fact*i\n",
    "    print (fact)\n"
   ]
  },
  {
   "cell_type": "code",
   "execution_count": 22,
   "id": "0e7ff079-8efd-4f74-8690-77da12ee30ab",
   "metadata": {},
   "outputs": [
    {
     "name": "stdout",
     "output_type": "stream",
     "text": [
      "120.0\n"
     ]
    }
   ],
   "source": [
    "a=6\n",
    "fact1=1\n",
    "for j in range (1,a+1):\n",
    "    fact1=fact1*j\n",
    "b=(6-3)\n",
    "fact2=1\n",
    "for l in range (1,b+1):\n",
    "    fact2=fact2*l\n",
    "c=(fact1/fact2)\n",
    "print(c)"
   ]
  },
  {
   "cell_type": "code",
   "execution_count": 24,
   "id": "61957d32-51fd-44b0-93bb-397eb04b4dcf",
   "metadata": {},
   "outputs": [
    {
     "name": "stdout",
     "output_type": "stream",
     "text": [
      "705432.0\n"
     ]
    }
   ],
   "source": [
    "n=22\n",
    "fact1=1\n",
    "for j in range (1,n+1):\n",
    "    fact1=fact1*j\n",
    "m=11\n",
    "fact2=1\n",
    "for l in range (1,m+1):\n",
    "    fact2=fact2*l\n",
    "o=(n-m)\n",
    "fact3=1\n",
    "for l in range (1,o+1):\n",
    "    fact3=fact3*l\n",
    "c=(fact1/(fact2*fact3))\n",
    "print(c)"
   ]
  },
  {
   "cell_type": "code",
   "execution_count": 25,
   "id": "d637e7c2-2dd2-4d4f-ac98-1ff6b8daa34c",
   "metadata": {},
   "outputs": [
    {
     "name": "stdout",
     "output_type": "stream",
     "text": [
      "352716.0\n"
     ]
    }
   ],
   "source": [
    "n=21\n",
    "fact1=1\n",
    "for j in range (1,n+1):\n",
    "    fact1=fact1*j\n",
    "m=10\n",
    "fact2=1\n",
    "for l in range (1,m+1):\n",
    "    fact2=fact2*l\n",
    "o=(n-m)\n",
    "fact3=1\n",
    "for l in range (1,o+1):\n",
    "    fact3=fact3*l\n",
    "c=(fact1/(fact2*fact3))\n",
    "print(c)"
   ]
  },
  {
   "cell_type": "code",
   "execution_count": null,
   "id": "2d82e1f1-aad8-4ee0-a16d-7de3a4ab735b",
   "metadata": {},
   "outputs": [],
   "source": []
  }
 ],
 "metadata": {
  "kernelspec": {
   "display_name": "Python 3 (ipykernel)",
   "language": "python",
   "name": "python3"
  },
  "language_info": {
   "codemirror_mode": {
    "name": "ipython",
    "version": 3
   },
   "file_extension": ".py",
   "mimetype": "text/x-python",
   "name": "python",
   "nbconvert_exporter": "python",
   "pygments_lexer": "ipython3",
   "version": "3.7.12"
  }
 },
 "nbformat": 4,
 "nbformat_minor": 5
}
