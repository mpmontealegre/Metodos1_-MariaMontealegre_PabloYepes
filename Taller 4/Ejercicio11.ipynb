{
 "cells": [
  {
   "cell_type": "code",
   "execution_count": 1,
   "id": "351595c1-7c63-4e17-b365-49d213f9b91c",
   "metadata": {},
   "outputs": [],
   "source": [
    "import numpy as np\n",
    "import matplotlib.pyplot as plt\n",
    "import sympy as sym\n",
    "from scipy import integrate"
   ]
  },
  {
   "cell_type": "code",
   "execution_count": 16,
   "id": "7ef9bf70-1e0b-4114-a2e9-865fb1b22ca6",
   "metadata": {},
   "outputs": [],
   "source": [
    "class Integrator:\n",
    "    \n",
    "    def __init__(self, x,y):\n",
    "        \n",
    "        self.x = x\n",
    "        self.y = y\n",
    "        self.h = self.x[1] - self.x[0]\n",
    "        \n",
    "        self.integral = 0.\n",
    "        \n",
    "    def Trapezoid(self):\n",
    "        \n",
    "        self.integral = 0.\n",
    "        \n",
    "        self.integral += 0.5*(self.y[0] + self.y[-1])\n",
    "        \n",
    "        self.integral += np.sum( self.y[1:-1] )\n",
    "        \n",
    "        return self.integral*self.h\n",
    "    \n",
    "    def GetTrapezoidError(self,f):\n",
    "        \n",
    "        d = (f( self.x + self.h ) - 2*f(self.x) + f( self.x - self.h))/self.h**2 \n",
    "        \n",
    "        \n",
    "        max_ = np.max(np.abs(d))\n",
    "        \n",
    "        self.error = (max_* (self.x[-1]-self.x[0])**3 )/(12*(len(self.x)-1)**2)\n",
    "        \n",
    "        return self.error\n",
    "    \n",
    "    def Simpson(self):\n",
    "        \n",
    "        self.integral = 0.\n",
    "        \n",
    "        self.integral += self.y[0] + self.y[-1]\n",
    "        \n",
    "        for i in range( len(y[1:-1]) ):\n",
    "            if i%2 == 0:\n",
    "                self.integral += 2*y[i+1] #Se multiplica por 2 en los pares, no en los impares\n",
    "            else:\n",
    "                self.integral += 4*y[i+1]\n",
    "                \n",
    "        return self.integral*self.h/3\n",
    "    \n",
    "    def GetSimpsonError(self,f):\n",
    "        \n",
    "        d = (f( self.x + 2*self.h ) - \\\n",
    "             4*f( self.x + self.h ) + \\\n",
    "             6*f(self.x) - \\\n",
    "             4*f( self.x - self.h ) + \\\n",
    "             f(self.x - 2*self.h))/self.h**4\n",
    "        \n",
    "        max_ = np.max( np.abs(d) )\n",
    "        \n",
    "        self.error = (self.x[-1] - self.x[0])*self.h**4 * max_ / 180.\n",
    "        \n",
    "        return self.error"
   ]
  },
  {
   "cell_type": "code",
   "execution_count": 61,
   "id": "73060e5d-b458-4664-85d1-fddd0a66592b",
   "metadata": {},
   "outputs": [],
   "source": [
    "x= np.linspace(-1,1,900)\n",
    "f= lambda x: np.sqrt(np.e**(-((x)**2)))\n",
    "y=f(x)"
   ]
  },
  {
   "cell_type": "code",
   "execution_count": 62,
   "id": "7e383346-5a22-481b-ba0e-3aacc0d3ae53",
   "metadata": {},
   "outputs": [
    {
     "data": {
      "text/plain": [
       "<matplotlib.collections.PathCollection at 0x7f436774f890>"
      ]
     },
     "execution_count": 62,
     "metadata": {},
     "output_type": "execute_result"
    },
    {
     "data": {
      "image/png": "[encoded data removed]",
      "text/plain": [
       "<Figure size 432x288 with 1 Axes>"
      ]
     },
     "metadata": {
      "needs_background": "light"
     },
     "output_type": "display_data"
    }
   ],
   "source": [
    "plt.scatter(x,y,color='r')"
   ]
  },
  {
   "cell_type": "code",
   "execution_count": 63,
   "id": "56ebbb8f-5629-42a9-a4d1-b9afcbd3d4be",
   "metadata": {},
   "outputs": [],
   "source": [
    "int1=Integrator(x,y)"
   ]
  },
  {
   "cell_type": "code",
   "execution_count": 64,
   "id": "dea01c6e-879d-49ac-bdb6-d37243cc75e8",
   "metadata": {},
   "outputs": [
    {
     "data": {
      "text/plain": [
       "1.710798501743193"
      ]
     },
     "execution_count": 64,
     "metadata": {},
     "output_type": "execute_result"
    }
   ],
   "source": [
    "int1.Simpson()"
   ]
  },
  {
   "cell_type": "code",
   "execution_count": 65,
   "id": "9203e255-1425-4e39-b2f4-a04b98988635",
   "metadata": {},
   "outputs": [
    {
     "data": {
      "text/plain": [
       "8.164974869057713e-13"
      ]
     },
     "execution_count": 65,
     "metadata": {},
     "output_type": "execute_result"
    }
   ],
   "source": [
    "int1.GetSimpsonError(f)"
   ]
  },
  {
   "cell_type": "code",
   "execution_count": null,
   "id": "d44c6de1-7ed1-4a06-bea9-4b1276b039f4",
   "metadata": {},
   "outputs": [],
   "source": []
  }
 ],
 "metadata": {
  "kernelspec": {
   "display_name": "Python 3 (ipykernel)",
   "language": "python",
   "name": "python3"
  },
  "language_info": {
   "codemirror_mode": {
    "name": "ipython",
    "version": 3
   },
   "file_extension": ".py",
   "mimetype": "text/x-python",
   "name": "python",
   "nbconvert_exporter": "python",
   "pygments_lexer": "ipython3",
   "version": "3.7.12"
  }
 },
 "nbformat": 4,
 "nbformat_minor": 5
}
