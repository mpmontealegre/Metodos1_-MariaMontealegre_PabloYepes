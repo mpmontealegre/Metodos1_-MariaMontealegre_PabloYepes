{
 "cells": [
  {
   "cell_type": "code",
   "execution_count": 1,
   "id": "38229a4c-328a-45c2-bf73-ccaac14af5ac",
   "metadata": {},
   "outputs": [],
   "source": [
    "import numpy as np\n",
    "import matplotlib.pyplot as plt\n",
    "import sympy as sym"
   ]
  },
  {
   "cell_type": "code",
   "execution_count": 104,
   "id": "4f1b0a0f-1f28-45b2-a846-48ac1adafff6",
   "metadata": {},
   "outputs": [],
   "source": [
    "def GetNewtonMethod(f,df,xn,itmax = 100000, precision=1e-12):\n",
    "    \n",
    "    error = 1.\n",
    "    it = 0\n",
    "    \n",
    "    while error > precision and it < itmax:\n",
    "        \n",
    "        try:\n",
    "            \n",
    "            xn1 = xn - f(xn)/df(xn)\n",
    "            \n",
    "           # error = np.abs( (xn1-xn) )\n",
    "            error = np.abs(f(xn)/df(xn))\n",
    "        \n",
    "        except ZeroDivisionError:\n",
    "            print(\"zero division\")\n",
    "            \n",
    "        xn  = xn1\n",
    "        it += 1\n",
    "    \n",
    "    #print('Raiz:',xn,it)\n",
    "    \n",
    "    if it == itmax:\n",
    "        return False\n",
    "    else:\n",
    "        return xn"
   ]
  },
  {
   "cell_type": "code",
   "execution_count": 105,
   "id": "57a8df4a-8a88-46ea-96c2-7f32a12ad313",
   "metadata": {},
   "outputs": [],
   "source": [
    "def GetAllRoots(f,df,x, tolerancia=9):\n",
    "    \n",
    "    Roots = np.array([])\n",
    "    \n",
    "    for i in x:\n",
    "        \n",
    "        root = GetNewtonMethod(f,df,i)\n",
    "          \n",
    "        if root != False:\n",
    "            \n",
    "            croot = np.round( root, tolerancia ) \n",
    "            \n",
    "            if croot not in Roots:\n",
    "                Roots = np.append( Roots, croot )\n",
    "                \n",
    "    # Ordenamos las raices\n",
    "    Roots.sort()\n",
    "    \n",
    "    return Roots"
   ]
  },
  {
   "cell_type": "code",
   "execution_count": 106,
   "id": "0f641ff0-968e-479f-9ed1-7c48606d125c",
   "metadata": {},
   "outputs": [],
   "source": [
    "def GetLegendre(n):\n",
    "    \n",
    "    x = sym.Symbol('x',Real=True)\n",
    "    y = sym.Symbol('y',Real=True)\n",
    "    \n",
    "    y = (x**2 - 1)**n\n",
    "    \n",
    "    p = sym.diff(y,x,n)/(2**n * np.math.factorial(n))\n",
    "    \n",
    "    return p"
   ]
  },
  {
   "cell_type": "code",
   "execution_count": 131,
   "id": "6b5afb45-7dba-4379-98ff-24275f31fbed",
   "metadata": {},
   "outputs": [],
   "source": [
    "Legendre = []\n",
    "DerLegendre = []\n",
    "\n",
    "x = sym.Symbol('x',Real=True)\n",
    "n=2\n",
    "\n",
    "for i in range(n+1):\n",
    "    \n",
    "    poly = GetLegendre(i)\n",
    "    \n",
    "    Legendre.append(poly)\n",
    "    DerLegendre.append(sym.diff(poly,x,1))\n"
   ]
  },
  {
   "cell_type": "code",
   "execution_count": 150,
   "id": "2e57c27d-9ac7-4af5-855d-b640825b86c2",
   "metadata": {},
   "outputs": [],
   "source": [
    "def GetRootsPolynomial(n,xi,poly,dpoly):\n",
    "    \n",
    "    x = sym.Symbol('x',Real=True)\n",
    "    \n",
    "    pn = sym.lambdify([x],poly[n],'numpy')\n",
    "    dpn = sym.lambdify([x],dpoly[n],'numpy')\n",
    "    Roots = GetAllRoots(pn,dpn,xi,tolerancia=8)\n",
    "    \n",
    "    return Roots"
   ]
  },
  {
   "cell_type": "code",
   "execution_count": 109,
   "id": "291b79a6-2373-47d5-9b80-35914eaafaea",
   "metadata": {},
   "outputs": [],
   "source": [
    "xi = np.linspace(-1,1,100)\n",
    "n = 2\n",
    "Roots = GetRootsPolynomial(n,xi,Legendre,DerLegendre)"
   ]
  },
  {
   "cell_type": "code",
   "execution_count": 178,
   "id": "b15003ff-2182-4d1f-befb-0fd4c8a69206",
   "metadata": {},
   "outputs": [],
   "source": [
    "def GetWeights(Roots,Dpoly):\n",
    "    \n",
    "    Weights = []\n",
    "    x = sym.Symbol('x',Real=True)\n",
    "    dpn = sym.lambdify([x],Dpoly[n],'numpy')\n",
    "    \n",
    "    for r in Roots:\n",
    "        \n",
    "        Weights.append( 2/(( 1- r**2 )*dpn(r)**2) )\n",
    "        \n",
    "    return Weights"
   ]
  },
  {
   "cell_type": "code",
   "execution_count": 179,
   "id": "38bd0403-6942-45d1-8ca9-338682d9b29e",
   "metadata": {},
   "outputs": [
    {
     "data": {
      "text/plain": [
       "[0.9999999985963908, 0.9999999985963908]"
      ]
     },
     "execution_count": 179,
     "metadata": {},
     "output_type": "execute_result"
    }
   ],
   "source": [
    "Weights = GetWeights(Roots,DerLegendre)\n",
    "Weights"
   ]
  },
  {
   "cell_type": "code",
   "execution_count": 180,
   "id": "fe778c96-392c-44ac-97f9-868f564291db",
   "metadata": {},
   "outputs": [],
   "source": [
    "a = 1\n",
    "b = 2\n",
    "f = lambda x : 1/(x**2)\n"
   ]
  },
  {
   "cell_type": "code",
   "execution_count": 181,
   "id": "8f01378f-2fad-4b34-b740-076ec3dc1587",
   "metadata": {},
   "outputs": [],
   "source": [
    "t = 0.5*((b-a)*Roots + a + b)"
   ]
  },
  {
   "cell_type": "code",
   "execution_count": 182,
   "id": "79fe16f5-cacf-4473-8237-c18d291ad082",
   "metadata": {},
   "outputs": [
    {
     "data": {
      "text/plain": [
       "0.4970414195778547"
      ]
     },
     "execution_count": 182,
     "metadata": {},
     "output_type": "execute_result"
    }
   ],
   "source": [
    "Integral = 0.5*(b-a)*np.sum( Weights*f(t) )\n",
    "Integral"
   ]
  },
  {
   "cell_type": "code",
   "execution_count": 191,
   "id": "e21b6824-2a36-4462-8218-c5999af346ee",
   "metadata": {},
   "outputs": [],
   "source": [
    "Legendre3 = []\n",
    "DerLegendre3 = []\n",
    "\n",
    "x = sym.Symbol('x',Real=True)\n",
    "N=2\n",
    "\n",
    "for i in range(N+1):\n",
    "    \n",
    "    poly = GetLegendre(i)\n",
    "    \n",
    "    Legendre3.append(poly)\n",
    "    DerLegendre3.append(sym.diff(poly,x,1))"
   ]
  },
  {
   "cell_type": "code",
   "execution_count": null,
   "id": "82809ecb-a7ce-4a12-9404-ebad9b119258",
   "metadata": {},
   "outputs": [],
   "source": [
    "xi = np.linspace(-1,1,100)\n",
    "N = 3\n",
    "Roots3 = GetRootsPolynomial(N,xi,Legendre3,DerLegendre3)"
   ]
  },
  {
   "cell_type": "code",
   "execution_count": 183,
   "id": "147e4d63-6552-45f9-a758-8dc639a69e1c",
   "metadata": {},
   "outputs": [
    {
     "data": {
      "text/plain": [
       "[0.9259259268326304, 0.9259259268326304]"
      ]
     },
     "execution_count": 183,
     "metadata": {},
     "output_type": "execute_result"
    }
   ],
   "source": [
    "Weights3 = GetWeights(Roots3,DerLegendre3)\n",
    "Weights3"
   ]
  },
  {
   "cell_type": "code",
   "execution_count": 184,
   "id": "16fb0d4b-33b5-49a6-8f41-6ca19a18a3b2",
   "metadata": {},
   "outputs": [],
   "source": [
    "a = 1\n",
    "b = 2\n",
    "f = lambda x : 1/(x**2)\n",
    "t3 = 0.5*((b-a)*Roots3 + a + b)"
   ]
  },
  {
   "cell_type": "code",
   "execution_count": 185,
   "id": "a05ddd59-ba75-4926-97ea-1f23163900ac",
   "metadata": {},
   "outputs": [
    {
     "data": {
      "text/plain": [
       "0.5039052665061371"
      ]
     },
     "execution_count": 185,
     "metadata": {},
     "output_type": "execute_result"
    }
   ],
   "source": [
    "Integral3 = 0.5*(b-a)*np.sum( Weights3*f(t3) )\n",
    "Integral3"
   ]
  },
  {
   "cell_type": "code",
   "execution_count": 186,
   "id": "ef59221f-5b59-4d44-a870-39b5581c9c52",
   "metadata": {},
   "outputs": [
    {
     "data": {
      "text/plain": [
       "[0, 1, 3*x, 15*x**2/2 - 3/2]"
      ]
     },
     "execution_count": 186,
     "metadata": {},
     "output_type": "execute_result"
    }
   ],
   "source": [
    "DerLegendre3"
   ]
  },
  {
   "cell_type": "code",
   "execution_count": 187,
   "id": "9666ac3c-96ff-45f3-8d34-3c6d77e92a3c",
   "metadata": {},
   "outputs": [
    {
     "data": {
      "text/plain": [
       "[1, x, (3*x**2 - 1)/2, x*(5*x**2 - 3)/2]"
      ]
     },
     "execution_count": 187,
     "metadata": {},
     "output_type": "execute_result"
    }
   ],
   "source": [
    "Legendre3"
   ]
  },
  {
   "cell_type": "code",
   "execution_count": 190,
   "id": "df656d5a-deda-4da8-885e-8953d3abbdf3",
   "metadata": {},
   "outputs": [
    {
     "data": {
      "text/plain": [
       "array([-0.77459667,  0.77459667])"
      ]
     },
     "execution_count": 190,
     "metadata": {},
     "output_type": "execute_result"
    }
   ],
   "source": [
    "Roots3 #Tengo la sospecha que el problema que hay es que el codigo se salta el 0 como una raiz"
   ]
  },
  {
   "cell_type": "code",
   "execution_count": 171,
   "id": "af336442-4db3-48c9-b91d-c2b418e33d65",
   "metadata": {},
   "outputs": [
    {
     "data": {
      "text/plain": [
       "[0, -sqrt(15)/5, sqrt(15)/5]"
      ]
     },
     "execution_count": 171,
     "metadata": {},
     "output_type": "execute_result"
    }
   ],
   "source": [
    "sym.solvers.solve(Legendre3)\n"
   ]
  },
  {
   "cell_type": "code",
   "execution_count": null,
   "id": "d4123c73-9fe4-4405-a20d-2302017e154e",
   "metadata": {},
   "outputs": [],
   "source": []
  }
 ],
 "metadata": {
  "kernelspec": {
   "display_name": "Python 3 (ipykernel)",
   "language": "python",
   "name": "python3"
  },
  "language_info": {
   "codemirror_mode": {
    "name": "ipython",
    "version": 3
   },
   "file_extension": ".py",
   "mimetype": "text/x-python",
   "name": "python",
   "nbconvert_exporter": "python",
   "pygments_lexer": "ipython3",
   "version": "3.7.12"
  }
 },
 "nbformat": 4,
 "nbformat_minor": 5
}
