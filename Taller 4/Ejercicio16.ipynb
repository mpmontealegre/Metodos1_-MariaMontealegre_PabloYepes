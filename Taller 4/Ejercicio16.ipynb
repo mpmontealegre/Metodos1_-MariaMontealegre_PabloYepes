{
 "cells": [
  {
   "cell_type": "code",
   "execution_count": 1,
   "id": "a2230abb-12d5-4082-b796-e0646cdaab2b",
   "metadata": {},
   "outputs": [],
   "source": [
    "import numpy as np\n",
    "import matplotlib.pyplot as plt\n",
    "import sympy as sym\n",
    "from scipy import integrate"
   ]
  },
  {
   "cell_type": "code",
   "execution_count": 2,
   "id": "18501f9a-eb50-4733-96f5-f444ce0d4bcb",
   "metadata": {},
   "outputs": [],
   "source": [
    "def GetNewtonMethod(f,df,xn,itmax = 100000, precision=1e-12):\n",
    "    \n",
    "    error = 1.\n",
    "    it = 0\n",
    "    \n",
    "    while error > precision and it < itmax:\n",
    "        \n",
    "        try:\n",
    "            \n",
    "            xn1 = xn - f(xn)/df(xn)\n",
    "            \n",
    "           # error = np.abs( (xn1-xn) )\n",
    "            error = np.abs(f(xn)/df(xn))\n",
    "        \n",
    "        except ZeroDivisionError:\n",
    "            print(\"zero division\")\n",
    "            \n",
    "        xn  = xn1\n",
    "        it += 1\n",
    "    \n",
    "    #print('Raiz:',xn,it)\n",
    "    \n",
    "    if it == itmax:\n",
    "        return False\n",
    "    else:\n",
    "        return xn"
   ]
  },
  {
   "cell_type": "code",
   "execution_count": 3,
   "id": "b0f6e653-19c2-42a0-bee8-0581ecfdfd9e",
   "metadata": {},
   "outputs": [],
   "source": [
    "def GetAllRoots(f,df,x, tolerancia=9):\n",
    "    \n",
    "    Roots = np.array([])\n",
    "    \n",
    "    for i in x:\n",
    "        \n",
    "        root = GetNewtonMethod(f,df,i)\n",
    "          \n",
    "        if root != False:\n",
    "            \n",
    "            croot = np.round( root, tolerancia ) \n",
    "            \n",
    "            if croot not in Roots:\n",
    "                Roots = np.append( Roots, croot )\n",
    "                \n",
    "    # Ordenamos las raices\n",
    "    Roots.sort()\n",
    "    \n",
    "    return Roots"
   ]
  },
  {
   "cell_type": "code",
   "execution_count": 4,
   "id": "26a73c81-7b10-43fa-bf89-3ef84907b7d0",
   "metadata": {},
   "outputs": [],
   "source": [
    "def GetLaguerre(n):\n",
    "    \n",
    "    x = sym.Symbol('x',Real=True)\n",
    "    y = sym.Symbol('y',Real=True)\n",
    "    \n",
    "    y = sym.exp(-x)*x**n\n",
    "    \n",
    "    p = sym.exp(x)*sym.diff(y,x,n)/(np.math.factorial(n))\n",
    "    \n",
    "    return p"
   ]
  },
  {
   "cell_type": "code",
   "execution_count": 5,
   "id": "ecfe1a3f-c0b3-4ff5-8790-7be376f63f6d",
   "metadata": {},
   "outputs": [],
   "source": [
    "x = sym.Symbol('x',Real=True)\n",
    "n=3\n",
    "Laguerre=[]\n",
    "DerLaguerre=[]\n",
    "for i in range(n+1):\n",
    "    \n",
    "    poly = GetLaguerre(i)\n",
    "    \n",
    "    Laguerre.append(poly)\n",
    "    DerLaguerre.append(sym.diff(poly,x,1))"
   ]
  },
  {
   "cell_type": "code",
   "execution_count": 6,
   "id": "37dc207f-12ce-4e54-9f8e-26f919a4267f",
   "metadata": {},
   "outputs": [],
   "source": [
    "def GetRootsPolynomial(n,xi,poly,dpoly):\n",
    "    \n",
    "    x = sym.Symbol('x',Real=True)\n",
    "    \n",
    "    pn = sym.lambdify([x],poly[n],'numpy')\n",
    "    dpn = sym.lambdify([x],dpoly[n],'numpy')\n",
    "    Roots = GetAllRoots(pn,dpn,xi,tolerancia=8)\n",
    "    \n",
    "    return Roots"
   ]
  },
  {
   "cell_type": "code",
   "execution_count": 83,
   "id": "9c72dd45-cec7-4758-94db-0a007c1b32da",
   "metadata": {},
   "outputs": [
    {
     "data": {
      "text/plain": [
       "array([0.41577456, 2.29428036, 6.28994508])"
      ]
     },
     "execution_count": 83,
     "metadata": {},
     "output_type": "execute_result"
    }
   ],
   "source": [
    "xi = np.linspace(0,20,200)\n",
    "Roots = GetRootsPolynomial(n,xi,Laguerre,DerLaguerre)\n",
    "Roots"
   ]
  },
  {
   "cell_type": "code",
   "execution_count": 119,
   "id": "a115b65e-0127-4aeb-bb8f-62e6c9009d89",
   "metadata": {},
   "outputs": [],
   "source": [
    "def GetWeights(Roots):\n",
    "    \n",
    "    Weight = []\n",
    "    x = sym.Symbol('x',Real=True)\n",
    "    pn = GetLaguerre(n+1)\n",
    "\n",
    "    for r in range (len(Roots)):\n",
    "        expre=pn(Roots[r])\n",
    "        Weight.append( Roots[r] /( (n+1)**2 + (expre.evalf()) ))\n",
    "\n",
    "    return Weight"
   ]
  },
  {
   "cell_type": "code",
   "execution_count": 120,
   "id": "0a21b0be-f1a2-4868-a4c8-033f2cf0da32",
   "metadata": {},
   "outputs": [
    {
     "ename": "TypeError",
     "evalue": "'Add' object is not callable",
     "output_type": "error",
     "traceback": [
      "\u001b[0;31m---------------------------------------------------------------------------\u001b[0m",
      "\u001b[0;31mTypeError\u001b[0m                                 Traceback (most recent call last)",
      "\u001b[0;32m/tmp/ipykernel_61/165072506.py\u001b[0m in \u001b[0;36m<module>\u001b[0;34m\u001b[0m\n\u001b[0;32m----> 1\u001b[0;31m \u001b[0mWeights\u001b[0m \u001b[0;34m=\u001b[0m \u001b[0mGetWeights\u001b[0m\u001b[0;34m(\u001b[0m\u001b[0mRoots\u001b[0m\u001b[0;34m)\u001b[0m\u001b[0;34m\u001b[0m\u001b[0;34m\u001b[0m\u001b[0m\n\u001b[0m\u001b[1;32m      2\u001b[0m \u001b[0mWeights\u001b[0m\u001b[0;34m\u001b[0m\u001b[0;34m\u001b[0m\u001b[0m\n",
      "\u001b[0;32m/tmp/ipykernel_61/3634272057.py\u001b[0m in \u001b[0;36mGetWeights\u001b[0;34m(Roots)\u001b[0m\n\u001b[1;32m      6\u001b[0m \u001b[0;34m\u001b[0m\u001b[0m\n\u001b[1;32m      7\u001b[0m     \u001b[0;32mfor\u001b[0m \u001b[0mr\u001b[0m \u001b[0;32min\u001b[0m \u001b[0mrange\u001b[0m \u001b[0;34m(\u001b[0m\u001b[0mlen\u001b[0m\u001b[0;34m(\u001b[0m\u001b[0mRoots\u001b[0m\u001b[0;34m)\u001b[0m\u001b[0;34m)\u001b[0m\u001b[0;34m:\u001b[0m\u001b[0;34m\u001b[0m\u001b[0;34m\u001b[0m\u001b[0m\n\u001b[0;32m----> 8\u001b[0;31m         \u001b[0mexpre\u001b[0m\u001b[0;34m=\u001b[0m\u001b[0mpn\u001b[0m\u001b[0;34m(\u001b[0m\u001b[0mRoots\u001b[0m\u001b[0;34m[\u001b[0m\u001b[0mr\u001b[0m\u001b[0;34m]\u001b[0m\u001b[0;34m)\u001b[0m\u001b[0;34m\u001b[0m\u001b[0;34m\u001b[0m\u001b[0m\n\u001b[0m\u001b[1;32m      9\u001b[0m         \u001b[0mWeight\u001b[0m\u001b[0;34m.\u001b[0m\u001b[0mappend\u001b[0m\u001b[0;34m(\u001b[0m \u001b[0mRoots\u001b[0m\u001b[0;34m[\u001b[0m\u001b[0mr\u001b[0m\u001b[0;34m]\u001b[0m \u001b[0;34m/\u001b[0m\u001b[0;34m(\u001b[0m \u001b[0;34m(\u001b[0m\u001b[0mn\u001b[0m\u001b[0;34m+\u001b[0m\u001b[0;36m1\u001b[0m\u001b[0;34m)\u001b[0m\u001b[0;34m**\u001b[0m\u001b[0;36m2\u001b[0m \u001b[0;34m+\u001b[0m \u001b[0;34m(\u001b[0m\u001b[0mexpre\u001b[0m\u001b[0;34m.\u001b[0m\u001b[0mevalf\u001b[0m\u001b[0;34m(\u001b[0m\u001b[0;34m)\u001b[0m\u001b[0;34m)\u001b[0m \u001b[0;34m)\u001b[0m\u001b[0;34m)\u001b[0m\u001b[0;34m\u001b[0m\u001b[0;34m\u001b[0m\u001b[0m\n\u001b[1;32m     10\u001b[0m \u001b[0;34m\u001b[0m\u001b[0m\n",
      "\u001b[0;31mTypeError\u001b[0m: 'Add' object is not callable"
     ]
    }
   ],
   "source": [
    "Weights = GetWeights(Roots)\n",
    "Weights"
   ]
  },
  {
   "cell_type": "code",
   "execution_count": 93,
   "id": "852f1b2d-e064-4974-b964-b2499f392d42",
   "metadata": {},
   "outputs": [],
   "source": [
    "a = 1\n",
    "b = 100\n",
    "x=Roots\n",
    "f = lambda x : ((np.exp(x))*x**3)/(np.exp(x)-1)\n",
    "y=f(x)"
   ]
  },
  {
   "cell_type": "code",
   "execution_count": 122,
   "id": "2b4a0841-dd13-4847-bdc7-e243a14b2b1f",
   "metadata": {},
   "outputs": [
    {
     "name": "stdout",
     "output_type": "stream",
     "text": [
      "0.096122867513088292349\n"
     ]
    },
    {
     "name": "stderr",
     "output_type": "stream",
     "text": [
      "/srv/conda/envs/notebook/lib/python3.7/site-packages/ipykernel_launcher.py:4: RuntimeWarning: invalid value encountered in double_scalars\n",
      "  after removing the cwd from sys.path.\n"
     ]
    }
   ],
   "source": [
    "for i in range (len(Roots)):\n",
    "    Sum=0\n",
    "    Sum += (Weights2[i]*f(i))\n",
    "print(sym.simplify(Sum))"
   ]
  },
  {
   "cell_type": "code",
   "execution_count": 118,
   "id": "618adca7-a4e7-4774-b491-ddb7f0e7ae34",
   "metadata": {},
   "outputs": [
    {
     "data": {
      "text/latex": [
       "$\\displaystyle \\frac{x^{4}}{24} - \\frac{2 x^{3}}{3} + 3 x^{2} - 4 x + 1$"
      ],
      "text/plain": [
       "x**4/24 - 2*x**3/3 + 3*x**2 - 4*x + 1"
      ]
     },
     "execution_count": 118,
     "metadata": {},
     "output_type": "execute_result"
    }
   ],
   "source": [
    "GetLaguerre(4)"
   ]
  },
  {
   "cell_type": "code",
   "execution_count": 28,
   "id": "6004ff1f-82b8-4acb-9632-7966f964889e",
   "metadata": {},
   "outputs": [
    {
     "data": {
      "text/plain": [
       "0.049787068367863944"
      ]
     },
     "execution_count": 28,
     "metadata": {},
     "output_type": "execute_result"
    }
   ],
   "source": [
    "np.polynomial.laguerre.lagweight(3)"
   ]
  },
  {
   "cell_type": "code",
   "execution_count": 107,
   "id": "c0e73036-5293-4faf-a46c-7f7005bf8d18",
   "metadata": {},
   "outputs": [],
   "source": [
    "def lag_weights_roots(n):\n",
    "    x = sym.Symbol(\"x\")\n",
    "    roots = sym.Poly(sym.laguerre(n, x)).all_roots()\n",
    "    x_i = [rt.evalf(20) for rt in roots]\n",
    "    w_i = [(rt / ((n + 1) * sym.laguerre(n + 1, rt)) ** 2).evalf(20) for rt in roots]\n",
    "    return w_i"
   ]
  },
  {
   "cell_type": "code",
   "execution_count": 121,
   "id": "b35e9a0e-6916-4fab-8a05-2ff97d41e12c",
   "metadata": {},
   "outputs": [],
   "source": [
    "Weights2=lag_weights_roots(3)"
   ]
  },
  {
   "cell_type": "code",
   "execution_count": null,
   "id": "9aabe840-5c44-4d17-83e9-e68d33c91fba",
   "metadata": {},
   "outputs": [],
   "source": [
    "f(1)"
   ]
  },
  {
   "cell_type": "code",
   "execution_count": null,
   "id": "ea040297-9bcd-40d9-ab58-381521d014d8",
   "metadata": {},
   "outputs": [],
   "source": []
  }
 ],
 "metadata": {
  "kernelspec": {
   "display_name": "Python 3 (ipykernel)",
   "language": "python",
   "name": "python3"
  },
  "language_info": {
   "codemirror_mode": {
    "name": "ipython",
    "version": 3
   },
   "file_extension": ".py",
   "mimetype": "text/x-python",
   "name": "python",
   "nbconvert_exporter": "python",
   "pygments_lexer": "ipython3",
   "version": "3.7.12"
  }
 },
 "nbformat": 4,
 "nbformat_minor": 5
}
