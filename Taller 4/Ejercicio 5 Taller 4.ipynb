{
 "cells": [
  {
   "cell_type": "code",
   "execution_count": 7,
   "id": "1ee9cb0a-73a1-438d-9532-6e4e7d613a71",
   "metadata": {},
   "outputs": [],
   "source": [
    "import numpy as np\n",
    "import matplotlib.pyplot as plt\n",
    "import sympy as sym\n",
    "from scipy import integrate"
   ]
  },
  {
   "cell_type": "code",
   "execution_count": 8,
   "id": "e92725f3-4005-404c-8a38-9d87e0d6972c",
   "metadata": {},
   "outputs": [],
   "source": [
    "class Integrator:\n",
    "    \n",
    "    def __init__(self, x,y):\n",
    "        \n",
    "        self.x = x\n",
    "        self.y = y\n",
    "        self.h = self.x[1] - self.x[0]\n",
    "        \n",
    "        self.integral = 0.\n",
    "        \n",
    "    def Trapezoid(self):\n",
    "        \n",
    "        self.integral = 0.\n",
    "        \n",
    "        self.integral += 0.5*(self.y[0] + self.y[-1])\n",
    "        \n",
    "        self.integral += np.sum( self.y[1:-1] )\n",
    "        \n",
    "        return self.integral*self.h\n",
    "    \n",
    "    def GetTrapezoidError(self,f):\n",
    "        \n",
    "        d = (f( self.x + self.h ) - 2*f(self.x) + f( self.x - self.h))/self.h**2 \n",
    "        \n",
    "        \n",
    "        max_ = np.max(np.abs(d))\n",
    "        \n",
    "        self.error = (max_* (self.x[-1]-self.x[0])**3 )/(12*(len(self.x)-1)**2)\n",
    "        \n",
    "        return self.error"
   ]
  },
  {
   "cell_type": "code",
   "execution_count": 9,
   "id": "50f40c6a-69c0-43d1-9341-017a170bc774",
   "metadata": {},
   "outputs": [
    {
     "data": {
      "text/plain": [
       "<matplotlib.collections.PathCollection at 0x7f1805825390>"
      ]
     },
     "execution_count": 9,
     "metadata": {},
     "output_type": "execute_result"
    },
    {
     "data": {
      "image/png": "[encoded data removed]",
      "text/plain": [
       "<Figure size 432x288 with 1 Axes>"
      ]
     },
     "metadata": {
      "needs_background": "light"
     },
     "output_type": "display_data"
    }
   ],
   "source": [
    "expo= lambda x: np.exp(-x**2)\n",
    "n=13\n",
    "x=np.linspace(0,1,5000)\n",
    "y=expo(x)\n",
    "plt.scatter(x,y,color=\"r\")"
   ]
  },
  {
   "cell_type": "code",
   "execution_count": 10,
   "id": "be0cf781-a79e-4e34-923e-ef239b8074c3",
   "metadata": {},
   "outputs": [
    {
     "data": {
      "text/plain": [
       "<__main__.Integrator at 0x7f184c4a5d90>"
      ]
     },
     "execution_count": 10,
     "metadata": {},
     "output_type": "execute_result"
    }
   ],
   "source": [
    "int1=Integrator(x,y)\n",
    "int1"
   ]
  },
  {
   "cell_type": "code",
   "execution_count": 13,
   "id": "d1fccd7f-e291-41b1-bd62-1ca4bf358d86",
   "metadata": {},
   "outputs": [
    {
     "data": {
      "text/plain": [
       "0.7468241303589161"
      ]
     },
     "execution_count": 13,
     "metadata": {},
     "output_type": "execute_result"
    }
   ],
   "source": [
    "int1.Trapezoid()  #Hay un Error de 0.0000000000000001#"
   ]
  },
  {
   "cell_type": "code",
   "execution_count": 12,
   "id": "0119639e-142a-4a2b-92f6-2d39b85dc98a",
   "metadata": {},
   "outputs": [
    {
     "data": {
      "text/plain": [
       "0.746824130358916"
      ]
     },
     "execution_count": 12,
     "metadata": {},
     "output_type": "execute_result"
    }
   ],
   "source": [
    "integrate.trapezoid(y,x)"
   ]
  },
  {
   "cell_type": "code",
   "execution_count": null,
   "id": "068e33b6-d6f1-4a52-bb38-9f08b0997435",
   "metadata": {},
   "outputs": [],
   "source": []
  }
 ],
 "metadata": {
  "kernelspec": {
   "display_name": "Python 3 (ipykernel)",
   "language": "python",
   "name": "python3"
  },
  "language_info": {
   "codemirror_mode": {
    "name": "ipython",
    "version": 3
   },
   "file_extension": ".py",
   "mimetype": "text/x-python",
   "name": "python",
   "nbconvert_exporter": "python",
   "pygments_lexer": "ipython3",
   "version": "3.7.12"
  }
 },
 "nbformat": 4,
 "nbformat_minor": 5
}
